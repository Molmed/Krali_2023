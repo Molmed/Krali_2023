{
 "cells": [
  {
   "cell_type": "markdown",
   "metadata": {},
   "source": [
    "# Subtype prediction on the GSE56600 DNAm dataset from 227 pediatric B-cell ALL samples ([Lee et al., 2015](https://doi.org/10.1093/nar/gkv103))"
   ]
  },
  {
   "cell_type": "code",
   "execution_count": 1,
   "metadata": {
    "ExecuteTime": {
     "end_time": "2023-09-15T07:21:54.950476Z",
     "start_time": "2023-09-15T07:21:53.922334Z"
    }
   },
   "outputs": [],
   "source": [
    "import pandas as pd\n",
    "import numpy as np\n",
    "import matplotlib\n",
    "import matplotlib.pyplot as plt\n",
    "#plt.style.use('ggplot')\n",
    "import seaborn as sns\n",
    "import joblib\n",
    "import sys\n",
    "sys.path.append('../Train_Predict_modules/')\n",
    "from NSCmodelsV2 import *\n",
    "plt.rcParams['svg.fonttype'] = 'none'"
   ]
  },
  {
   "cell_type": "code",
   "execution_count": 2,
   "metadata": {
    "ExecuteTime": {
     "end_time": "2023-09-15T07:21:54.981455Z",
     "start_time": "2023-09-15T07:21:54.953188Z"
    }
   },
   "outputs": [],
   "source": [
    "path = '../test_data/DNAm/'\n",
    "testX =  joblib.load(path + 'DNAm_test_v2.pkl')\n",
    "testpheno = joblib.load(path + 'DNAm_pheno_test.pkl')\n"
   ]
  },
  {
   "cell_type": "markdown",
   "metadata": {},
   "source": [
    "# The CpG sites have been already filtered according to 519 sites selected by ALLIUM (to reduce file size as well)"
   ]
  },
  {
   "cell_type": "code",
   "execution_count": 3,
   "metadata": {
    "ExecuteTime": {
     "end_time": "2023-09-15T07:21:55.615660Z",
     "start_time": "2023-09-15T07:21:55.600628Z"
    }
   },
   "outputs": [
    {
     "data": {
      "text/plain": [
       "(227, 379)"
      ]
     },
     "execution_count": 3,
     "metadata": {},
     "output_type": "execute_result"
    }
   ],
   "source": [
    "testX.shape"
   ]
  },
  {
   "cell_type": "code",
   "execution_count": 4,
   "metadata": {
    "ExecuteTime": {
     "end_time": "2023-09-15T07:21:57.413594Z",
     "start_time": "2023-09-15T07:21:57.404622Z"
    }
   },
   "outputs": [],
   "source": [
    "pathsep = '../ALLIUM_signatures/'"
   ]
  },
  {
   "cell_type": "code",
   "execution_count": 5,
   "metadata": {
    "ExecuteTime": {
     "end_time": "2023-09-15T07:21:57.707138Z",
     "start_time": "2023-09-15T07:21:57.681297Z"
    }
   },
   "outputs": [],
   "source": [
    "unique_genedf = pd.read_csv(pathsep + 'CpGsSelectedNSCv2.csv')"
   ]
  },
  {
   "cell_type": "code",
   "execution_count": 6,
   "metadata": {
    "ExecuteTime": {
     "end_time": "2023-09-15T07:21:58.060052Z",
     "start_time": "2023-09-15T07:21:58.029352Z"
    }
   },
   "outputs": [
    {
     "data": {
      "text/html": [
       "<div>\n",
       "<style scoped>\n",
       "    .dataframe tbody tr th:only-of-type {\n",
       "        vertical-align: middle;\n",
       "    }\n",
       "\n",
       "    .dataframe tbody tr th {\n",
       "        vertical-align: top;\n",
       "    }\n",
       "\n",
       "    .dataframe thead th {\n",
       "        text-align: right;\n",
       "    }\n",
       "</style>\n",
       "<table border=\"1\" class=\"dataframe\">\n",
       "  <thead>\n",
       "    <tr style=\"text-align: right;\">\n",
       "      <th></th>\n",
       "      <th>Subtype</th>\n",
       "      <th>threshold</th>\n",
       "      <th>TargetID</th>\n",
       "      <th>feature_importance_mean</th>\n",
       "      <th>training.error</th>\n",
       "      <th>cv.error</th>\n",
       "      <th>test.error</th>\n",
       "      <th>CHR</th>\n",
       "      <th>UCSC_REFGENE_NAME</th>\n",
       "      <th>Gene</th>\n",
       "    </tr>\n",
       "  </thead>\n",
       "  <tbody>\n",
       "    <tr>\n",
       "      <th>0</th>\n",
       "      <td>aneuploidy</td>\n",
       "      <td>14.5</td>\n",
       "      <td>cg02522367</td>\n",
       "      <td>0.000794</td>\n",
       "      <td>0.961732</td>\n",
       "      <td>0.961422</td>\n",
       "      <td>0.961754</td>\n",
       "      <td>9.0</td>\n",
       "      <td>LCN6</td>\n",
       "      <td>LCN6</td>\n",
       "    </tr>\n",
       "    <tr>\n",
       "      <th>1</th>\n",
       "      <td>aneuploidy</td>\n",
       "      <td>14.5</td>\n",
       "      <td>cg02657865</td>\n",
       "      <td>0.004648</td>\n",
       "      <td>0.961732</td>\n",
       "      <td>0.961422</td>\n",
       "      <td>0.961754</td>\n",
       "      <td>6.0</td>\n",
       "      <td>TNXB</td>\n",
       "      <td>TNXB</td>\n",
       "    </tr>\n",
       "    <tr>\n",
       "      <th>2</th>\n",
       "      <td>aneuploidy</td>\n",
       "      <td>14.5</td>\n",
       "      <td>cg03148927</td>\n",
       "      <td>0.001222</td>\n",
       "      <td>0.961732</td>\n",
       "      <td>0.961422</td>\n",
       "      <td>0.961754</td>\n",
       "      <td>3.0</td>\n",
       "      <td>LARS2</td>\n",
       "      <td>LARS2</td>\n",
       "    </tr>\n",
       "    <tr>\n",
       "      <th>3</th>\n",
       "      <td>aneuploidy</td>\n",
       "      <td>14.5</td>\n",
       "      <td>cg04858987</td>\n",
       "      <td>0.002148</td>\n",
       "      <td>0.961732</td>\n",
       "      <td>0.961422</td>\n",
       "      <td>0.961754</td>\n",
       "      <td>3.0</td>\n",
       "      <td>SH3BP5;SH3BP5</td>\n",
       "      <td>SH3BP5</td>\n",
       "    </tr>\n",
       "    <tr>\n",
       "      <th>4</th>\n",
       "      <td>aneuploidy</td>\n",
       "      <td>14.5</td>\n",
       "      <td>cg06828613</td>\n",
       "      <td>0.000931</td>\n",
       "      <td>0.961732</td>\n",
       "      <td>0.961422</td>\n",
       "      <td>0.961754</td>\n",
       "      <td>1.0</td>\n",
       "      <td>HSD11B1</td>\n",
       "      <td>HSD11B1</td>\n",
       "    </tr>\n",
       "    <tr>\n",
       "      <th>...</th>\n",
       "      <td>...</td>\n",
       "      <td>...</td>\n",
       "      <td>...</td>\n",
       "      <td>...</td>\n",
       "      <td>...</td>\n",
       "      <td>...</td>\n",
       "      <td>...</td>\n",
       "      <td>...</td>\n",
       "      <td>...</td>\n",
       "      <td>...</td>\n",
       "    </tr>\n",
       "    <tr>\n",
       "      <th>374</th>\n",
       "      <td>Control</td>\n",
       "      <td>16.7</td>\n",
       "      <td>cg19849428</td>\n",
       "      <td>0.001741</td>\n",
       "      <td>0.994717</td>\n",
       "      <td>0.994634</td>\n",
       "      <td>0.994839</td>\n",
       "      <td>11.0</td>\n",
       "      <td>LRRC4C;LRRC4C</td>\n",
       "      <td>LRRC4C</td>\n",
       "    </tr>\n",
       "    <tr>\n",
       "      <th>375</th>\n",
       "      <td>Control</td>\n",
       "      <td>16.7</td>\n",
       "      <td>cg22484737</td>\n",
       "      <td>0.000435</td>\n",
       "      <td>0.994717</td>\n",
       "      <td>0.994634</td>\n",
       "      <td>0.994839</td>\n",
       "      <td>7.0</td>\n",
       "      <td>NaN</td>\n",
       "      <td>NaN</td>\n",
       "    </tr>\n",
       "    <tr>\n",
       "      <th>376</th>\n",
       "      <td>Control</td>\n",
       "      <td>16.7</td>\n",
       "      <td>cg25032595</td>\n",
       "      <td>0.002192</td>\n",
       "      <td>0.994717</td>\n",
       "      <td>0.994634</td>\n",
       "      <td>0.994839</td>\n",
       "      <td>13.0</td>\n",
       "      <td>CLDN10;CLDN10;CLDN10;CLDN10</td>\n",
       "      <td>CLDN10</td>\n",
       "    </tr>\n",
       "    <tr>\n",
       "      <th>377</th>\n",
       "      <td>Control</td>\n",
       "      <td>16.7</td>\n",
       "      <td>cg26001902</td>\n",
       "      <td>0.001737</td>\n",
       "      <td>0.994717</td>\n",
       "      <td>0.994634</td>\n",
       "      <td>0.994839</td>\n",
       "      <td>2.0</td>\n",
       "      <td>SLC5A7</td>\n",
       "      <td>SLC5A7</td>\n",
       "    </tr>\n",
       "    <tr>\n",
       "      <th>378</th>\n",
       "      <td>Control</td>\n",
       "      <td>16.7</td>\n",
       "      <td>cg26980244</td>\n",
       "      <td>0.001099</td>\n",
       "      <td>0.994717</td>\n",
       "      <td>0.994634</td>\n",
       "      <td>0.994839</td>\n",
       "      <td>8.0</td>\n",
       "      <td>NEFM;NEFM;NEFM</td>\n",
       "      <td>NEFM</td>\n",
       "    </tr>\n",
       "  </tbody>\n",
       "</table>\n",
       "<p>379 rows × 10 columns</p>\n",
       "</div>"
      ],
      "text/plain": [
       "        Subtype  threshold    TargetID  feature_importance_mean  \\\n",
       "0    aneuploidy       14.5  cg02522367                 0.000794   \n",
       "1    aneuploidy       14.5  cg02657865                 0.004648   \n",
       "2    aneuploidy       14.5  cg03148927                 0.001222   \n",
       "3    aneuploidy       14.5  cg04858987                 0.002148   \n",
       "4    aneuploidy       14.5  cg06828613                 0.000931   \n",
       "..          ...        ...         ...                      ...   \n",
       "374     Control       16.7  cg19849428                 0.001741   \n",
       "375     Control       16.7  cg22484737                 0.000435   \n",
       "376     Control       16.7  cg25032595                 0.002192   \n",
       "377     Control       16.7  cg26001902                 0.001737   \n",
       "378     Control       16.7  cg26980244                 0.001099   \n",
       "\n",
       "     training.error  cv.error  test.error   CHR            UCSC_REFGENE_NAME  \\\n",
       "0          0.961732  0.961422    0.961754   9.0                         LCN6   \n",
       "1          0.961732  0.961422    0.961754   6.0                         TNXB   \n",
       "2          0.961732  0.961422    0.961754   3.0                        LARS2   \n",
       "3          0.961732  0.961422    0.961754   3.0                SH3BP5;SH3BP5   \n",
       "4          0.961732  0.961422    0.961754   1.0                      HSD11B1   \n",
       "..              ...       ...         ...   ...                          ...   \n",
       "374        0.994717  0.994634    0.994839  11.0                LRRC4C;LRRC4C   \n",
       "375        0.994717  0.994634    0.994839   7.0                          NaN   \n",
       "376        0.994717  0.994634    0.994839  13.0  CLDN10;CLDN10;CLDN10;CLDN10   \n",
       "377        0.994717  0.994634    0.994839   2.0                       SLC5A7   \n",
       "378        0.994717  0.994634    0.994839   8.0               NEFM;NEFM;NEFM   \n",
       "\n",
       "         Gene  \n",
       "0        LCN6  \n",
       "1        TNXB  \n",
       "2       LARS2  \n",
       "3      SH3BP5  \n",
       "4     HSD11B1  \n",
       "..        ...  \n",
       "374    LRRC4C  \n",
       "375       NaN  \n",
       "376    CLDN10  \n",
       "377    SLC5A7  \n",
       "378      NEFM  \n",
       "\n",
       "[379 rows x 10 columns]"
      ]
     },
     "execution_count": 6,
     "metadata": {},
     "output_type": "execute_result"
    }
   ],
   "source": [
    "unique_genedf"
   ]
  },
  {
   "cell_type": "code",
   "execution_count": 7,
   "metadata": {
    "ExecuteTime": {
     "end_time": "2023-09-15T07:21:58.359786Z",
     "start_time": "2023-09-15T07:21:58.344160Z"
    }
   },
   "outputs": [
    {
     "data": {
      "text/plain": [
       "Hypo                         38\n",
       "HeH                          34\n",
       "low HeH                      34\n",
       "PAX5alt                      25\n",
       "11q23/MLL                    25\n",
       "t(1;19)                      24\n",
       "iAMP21                       24\n",
       "PAX5 p.Pro80Arg              23\n",
       "NUTM1-r                      19\n",
       "t(12;21)_vs_t(12;21)-like    18\n",
       "ETV6-group                   17\n",
       "aneuploidy                   16\n",
       "t(9;22)_vs_ph-like           16\n",
       "Control                      15\n",
       "DUX4-r                       13\n",
       "ZNF384-r                     12\n",
       "MEF2D-r                      10\n",
       "ph-group                      9\n",
       "T-ALL                         7\n",
       "Name: Subtype, dtype: int64"
      ]
     },
     "execution_count": 7,
     "metadata": {},
     "output_type": "execute_result"
    }
   ],
   "source": [
    "unique_genedf.Subtype.value_counts()"
   ]
  },
  {
   "cell_type": "code",
   "execution_count": 8,
   "metadata": {
    "ExecuteTime": {
     "end_time": "2023-09-15T07:22:01.450850Z",
     "start_time": "2023-09-15T07:22:01.443046Z"
    }
   },
   "outputs": [
    {
     "data": {
      "text/plain": [
       "Hypo                         38\n",
       "HeH                          34\n",
       "low HeH                      34\n",
       "PAX5alt                      25\n",
       "11q23/MLL                    25\n",
       "t(1;19)                      24\n",
       "iAMP21                       24\n",
       "PAX5 p.Pro80Arg              23\n",
       "NUTM1-r                      19\n",
       "t(12;21)_vs_t(12;21)-like    18\n",
       "ETV6-group                   17\n",
       "aneuploidy                   16\n",
       "t(9;22)_vs_ph-like           16\n",
       "Control                      15\n",
       "DUX4-r                       13\n",
       "ZNF384-r                     12\n",
       "MEF2D-r                      10\n",
       "ph-group                      9\n",
       "T-ALL                         7\n",
       "Name: Subtype, dtype: int64"
      ]
     },
     "execution_count": 8,
     "metadata": {},
     "output_type": "execute_result"
    }
   ],
   "source": [
    "finalsignatures = unique_genedf.copy()\n",
    "finalsignatures.Subtype.value_counts(dropna = False)"
   ]
  },
  {
   "cell_type": "code",
   "execution_count": 9,
   "metadata": {
    "ExecuteTime": {
     "end_time": "2023-09-15T07:22:03.137996Z",
     "start_time": "2023-09-15T07:22:03.115155Z"
    }
   },
   "outputs": [
    {
     "data": {
      "text/plain": [
       "(379, 10)"
      ]
     },
     "execution_count": 9,
     "metadata": {},
     "output_type": "execute_result"
    }
   ],
   "source": [
    "finalsignatures.shape"
   ]
  },
  {
   "cell_type": "code",
   "execution_count": 10,
   "metadata": {
    "ExecuteTime": {
     "end_time": "2023-09-15T07:22:37.192415Z",
     "start_time": "2023-09-15T07:22:37.179416Z"
    }
   },
   "outputs": [
    {
     "data": {
      "text/plain": [
       "379"
      ]
     },
     "execution_count": 10,
     "metadata": {},
     "output_type": "execute_result"
    }
   ],
   "source": [
    "sum(finalsignatures.TargetID == testX.columns)"
   ]
  },
  {
   "cell_type": "code",
   "execution_count": 11,
   "metadata": {
    "ExecuteTime": {
     "end_time": "2023-09-15T07:22:39.030920Z",
     "start_time": "2023-09-15T07:22:39.027924Z"
    }
   },
   "outputs": [],
   "source": [
    "modelpath = '../ALLIUM_models/ALLIUM_DNAm/'"
   ]
  },
  {
   "cell_type": "code",
   "execution_count": 12,
   "metadata": {
    "ExecuteTime": {
     "end_time": "2023-09-15T07:22:39.365112Z",
     "start_time": "2023-09-15T07:22:39.348475Z"
    }
   },
   "outputs": [],
   "source": [
    "model = joblib.load(modelpath + '/model_NSCv2_dnam.pkl')\n",
    "imp = joblib.load(modelpath + 'NAimputerNSCv2_dnam.pkl') # same imputation applied as in our design cohort"
   ]
  },
  {
   "cell_type": "code",
   "execution_count": 13,
   "metadata": {
    "ExecuteTime": {
     "end_time": "2023-09-15T07:22:39.715305Z",
     "start_time": "2023-09-15T07:22:39.698683Z"
    }
   },
   "outputs": [
    {
     "data": {
      "text/plain": [
       "{'aneuploidy': NearestCentroid(),\n",
       " 'Overall_aneuploidy': NearestCentroid(),\n",
       " 'ph-group': NearestCentroid(),\n",
       " 't(9;22)_vs_ph-like': NearestCentroid(),\n",
       " 'ETV6-group': NearestCentroid(),\n",
       " 't(12;21)_vs_t(12;21)-like': NearestCentroid(),\n",
       " 'T-ALL': NearestCentroid(),\n",
       " 'DUX4-r': NearestCentroid(),\n",
       " 'PAX5alt': NearestCentroid(),\n",
       " '11q23/MLL': NearestCentroid(),\n",
       " 'ZNF384-r': NearestCentroid(),\n",
       " 't(1;19)': NearestCentroid(),\n",
       " 'MEF2D-r': NearestCentroid(),\n",
       " 'PAX5 p.Pro80Arg': NearestCentroid(),\n",
       " 'NUTM1-r': NearestCentroid(),\n",
       " 'Control': NearestCentroid()}"
      ]
     },
     "execution_count": 13,
     "metadata": {},
     "output_type": "execute_result"
    }
   ],
   "source": [
    "model"
   ]
  },
  {
   "cell_type": "markdown",
   "metadata": {},
   "source": [
    "# Predict the external validation cohort"
   ]
  },
  {
   "cell_type": "code",
   "execution_count": 14,
   "metadata": {
    "ExecuteTime": {
     "end_time": "2023-09-15T07:22:41.281814Z",
     "start_time": "2023-09-15T07:22:41.273066Z"
    }
   },
   "outputs": [
    {
     "data": {
      "text/plain": [
       "227"
      ]
     },
     "execution_count": 14,
     "metadata": {},
     "output_type": "execute_result"
    }
   ],
   "source": [
    "sum(testX.index == testpheno.index)"
   ]
  },
  {
   "cell_type": "code",
   "execution_count": 15,
   "metadata": {
    "ExecuteTime": {
     "end_time": "2023-09-15T07:22:41.801920Z",
     "start_time": "2023-09-15T07:22:41.783010Z"
    },
    "scrolled": true
   },
   "outputs": [
    {
     "data": {
      "text/html": [
       "<div>\n",
       "<style scoped>\n",
       "    .dataframe tbody tr th:only-of-type {\n",
       "        vertical-align: middle;\n",
       "    }\n",
       "\n",
       "    .dataframe tbody tr th {\n",
       "        vertical-align: top;\n",
       "    }\n",
       "\n",
       "    .dataframe thead th {\n",
       "        text-align: right;\n",
       "    }\n",
       "</style>\n",
       "<table border=\"1\" class=\"dataframe\">\n",
       "  <thead>\n",
       "    <tr style=\"text-align: right;\">\n",
       "      <th></th>\n",
       "      <th>tissue</th>\n",
       "      <th>subjects</th>\n",
       "      <th>age</th>\n",
       "      <th>gender</th>\n",
       "      <th>cytogenetics</th>\n",
       "      <th>Subtype_updated</th>\n",
       "    </tr>\n",
       "    <tr>\n",
       "      <th>public_id</th>\n",
       "      <th></th>\n",
       "      <th></th>\n",
       "      <th></th>\n",
       "      <th></th>\n",
       "      <th></th>\n",
       "      <th></th>\n",
       "    </tr>\n",
       "  </thead>\n",
       "  <tbody>\n",
       "    <tr>\n",
       "      <th>0121C</th>\n",
       "      <td>bone marrow / peripheral blood</td>\n",
       "      <td>children with B-ALL (California Childhood Canc...</td>\n",
       "      <td>2</td>\n",
       "      <td>F</td>\n",
       "      <td>hyperdiploid</td>\n",
       "      <td>HeH</td>\n",
       "    </tr>\n",
       "    <tr>\n",
       "      <th>0419C</th>\n",
       "      <td>bone marrow / peripheral blood</td>\n",
       "      <td>children with B-ALL (California Childhood Canc...</td>\n",
       "      <td>3.5</td>\n",
       "      <td>M</td>\n",
       "      <td>hyperdiploid</td>\n",
       "      <td>HeH</td>\n",
       "    </tr>\n",
       "    <tr>\n",
       "      <th>0544C</th>\n",
       "      <td>bone marrow / peripheral blood</td>\n",
       "      <td>children with B-ALL (California Childhood Canc...</td>\n",
       "      <td>5.2</td>\n",
       "      <td>F</td>\n",
       "      <td>hyperdiploid</td>\n",
       "      <td>HeH</td>\n",
       "    </tr>\n",
       "    <tr>\n",
       "      <th>0592C</th>\n",
       "      <td>bone marrow / peripheral blood</td>\n",
       "      <td>children with B-ALL (California Childhood Canc...</td>\n",
       "      <td>4.5</td>\n",
       "      <td>F</td>\n",
       "      <td>hyperdiploid</td>\n",
       "      <td>HeH</td>\n",
       "    </tr>\n",
       "    <tr>\n",
       "      <th>0166C</th>\n",
       "      <td>bone marrow / peripheral blood</td>\n",
       "      <td>children with B-ALL (California Childhood Canc...</td>\n",
       "      <td>2.4</td>\n",
       "      <td>M</td>\n",
       "      <td>hyperdiploid</td>\n",
       "      <td>HeH</td>\n",
       "    </tr>\n",
       "    <tr>\n",
       "      <th>...</th>\n",
       "      <td>...</td>\n",
       "      <td>...</td>\n",
       "      <td>...</td>\n",
       "      <td>...</td>\n",
       "      <td>...</td>\n",
       "      <td>...</td>\n",
       "    </tr>\n",
       "    <tr>\n",
       "      <th>U017C</th>\n",
       "      <td>bone marrow / peripheral blood</td>\n",
       "      <td>children with B-ALL (California Childhood Canc...</td>\n",
       "      <td>NA</td>\n",
       "      <td>NA</td>\n",
       "      <td>unknown</td>\n",
       "      <td>B-other</td>\n",
       "    </tr>\n",
       "    <tr>\n",
       "      <th>U018C</th>\n",
       "      <td>bone marrow / peripheral blood</td>\n",
       "      <td>children with B-ALL (California Childhood Canc...</td>\n",
       "      <td>NA</td>\n",
       "      <td>NA</td>\n",
       "      <td>unknown</td>\n",
       "      <td>B-other</td>\n",
       "    </tr>\n",
       "    <tr>\n",
       "      <th>U019C</th>\n",
       "      <td>bone marrow / peripheral blood</td>\n",
       "      <td>children with B-ALL (California Childhood Canc...</td>\n",
       "      <td>NA</td>\n",
       "      <td>NA</td>\n",
       "      <td>unknown</td>\n",
       "      <td>B-other</td>\n",
       "    </tr>\n",
       "    <tr>\n",
       "      <th>U020C</th>\n",
       "      <td>bone marrow / peripheral blood</td>\n",
       "      <td>children with B-ALL (California Childhood Canc...</td>\n",
       "      <td>NA</td>\n",
       "      <td>NA</td>\n",
       "      <td>unknown</td>\n",
       "      <td>B-other</td>\n",
       "    </tr>\n",
       "    <tr>\n",
       "      <th>U021C</th>\n",
       "      <td>bone marrow / peripheral blood</td>\n",
       "      <td>children with B-ALL (California Childhood Canc...</td>\n",
       "      <td>NA</td>\n",
       "      <td>NA</td>\n",
       "      <td>unknown</td>\n",
       "      <td>B-other</td>\n",
       "    </tr>\n",
       "  </tbody>\n",
       "</table>\n",
       "<p>227 rows × 6 columns</p>\n",
       "</div>"
      ],
      "text/plain": [
       "                                   tissue  \\\n",
       "public_id                                   \n",
       "0121C      bone marrow / peripheral blood   \n",
       "0419C      bone marrow / peripheral blood   \n",
       "0544C      bone marrow / peripheral blood   \n",
       "0592C      bone marrow / peripheral blood   \n",
       "0166C      bone marrow / peripheral blood   \n",
       "...                                   ...   \n",
       "U017C      bone marrow / peripheral blood   \n",
       "U018C      bone marrow / peripheral blood   \n",
       "U019C      bone marrow / peripheral blood   \n",
       "U020C      bone marrow / peripheral blood   \n",
       "U021C      bone marrow / peripheral blood   \n",
       "\n",
       "                                                    subjects  age gender  \\\n",
       "public_id                                                                  \n",
       "0121C      children with B-ALL (California Childhood Canc...    2      F   \n",
       "0419C      children with B-ALL (California Childhood Canc...  3.5      M   \n",
       "0544C      children with B-ALL (California Childhood Canc...  5.2      F   \n",
       "0592C      children with B-ALL (California Childhood Canc...  4.5      F   \n",
       "0166C      children with B-ALL (California Childhood Canc...  2.4      M   \n",
       "...                                                      ...  ...    ...   \n",
       "U017C      children with B-ALL (California Childhood Canc...   NA     NA   \n",
       "U018C      children with B-ALL (California Childhood Canc...   NA     NA   \n",
       "U019C      children with B-ALL (California Childhood Canc...   NA     NA   \n",
       "U020C      children with B-ALL (California Childhood Canc...   NA     NA   \n",
       "U021C      children with B-ALL (California Childhood Canc...   NA     NA   \n",
       "\n",
       "           cytogenetics Subtype_updated  \n",
       "public_id                                \n",
       "0121C      hyperdiploid             HeH  \n",
       "0419C      hyperdiploid             HeH  \n",
       "0544C      hyperdiploid             HeH  \n",
       "0592C      hyperdiploid             HeH  \n",
       "0166C      hyperdiploid             HeH  \n",
       "...                 ...             ...  \n",
       "U017C           unknown         B-other  \n",
       "U018C           unknown         B-other  \n",
       "U019C           unknown         B-other  \n",
       "U020C           unknown         B-other  \n",
       "U021C           unknown         B-other  \n",
       "\n",
       "[227 rows x 6 columns]"
      ]
     },
     "execution_count": 15,
     "metadata": {},
     "output_type": "execute_result"
    }
   ],
   "source": [
    "testpheno"
   ]
  },
  {
   "cell_type": "markdown",
   "metadata": {},
   "source": [
    "# DNAm predictions work with signature_mode as separate, meaning that each classifier using its own signatures "
   ]
  },
  {
   "cell_type": "code",
   "execution_count": 16,
   "metadata": {
    "ExecuteTime": {
     "end_time": "2023-09-15T07:22:44.447970Z",
     "start_time": "2023-09-15T07:22:44.250773Z"
    }
   },
   "outputs": [
    {
     "name": "stdout",
     "output_type": "stream",
     "text": [
      "Starting with subtype group aneuploidy\n",
      "-------Start multiclass approach-----------\n",
      "Starting with subtype group ph-group\n",
      "-------Start one vs one approach-----------\n",
      "---------------t(9;22) vs ph-like---------------\n",
      "Starting with subtype group ETV6-group\n",
      "-------Start one vs one approach-----------\n",
      "---------------t(12;21) vs t(12;21)-like---------------\n",
      "Starting with subtype group T-ALL\n",
      "Starting with subtype group DUX4-r\n",
      "Starting with subtype group PAX5alt\n",
      "Starting with subtype group 11q23/MLL\n",
      "Starting with subtype group ZNF384-r\n",
      "Starting with subtype group t(1;19)\n",
      "Starting with subtype group MEF2D-r\n",
      "Starting with subtype group PAX5 p.Pro80Arg\n",
      "Starting with subtype group NUTM1-r\n",
      "Starting with subtype group Control\n"
     ]
    }
   ],
   "source": [
    "valgen = predictionsNSC(model = model, discoverydf = testX, discoverypheno = testpheno, \n",
    "                        clinicaldatalist = ['Subtype_updated'],\n",
    "                        unique_genedf = finalsignatures, subtypecol = 'Subtype', \n",
    "                        ids = 'TargetID', name = 'DNAm_subtype', datatype = 'DNAm',  \n",
    "                        signature_mode = 'separate', imputation = imp)"
   ]
  },
  {
   "cell_type": "code",
   "execution_count": 17,
   "metadata": {
    "ExecuteTime": {
     "end_time": "2023-09-15T07:22:45.317744Z",
     "start_time": "2023-09-15T07:22:45.304746Z"
    }
   },
   "outputs": [
    {
     "data": {
      "text/plain": [
       "(6, 31)"
      ]
     },
     "execution_count": 17,
     "metadata": {},
     "output_type": "execute_result"
    }
   ],
   "source": [
    "multicases = valgen[(valgen.Subtype_updated != 'B-other') & (valgen['DNAm_subtype'] == 'multiclass')]\n",
    "multicases.shape"
   ]
  },
  {
   "cell_type": "code",
   "execution_count": 18,
   "metadata": {
    "ExecuteTime": {
     "end_time": "2023-09-15T07:22:48.066840Z",
     "start_time": "2023-09-15T07:22:48.058100Z"
    }
   },
   "outputs": [
    {
     "data": {
      "text/plain": [
       "4"
      ]
     },
     "execution_count": 18,
     "metadata": {},
     "output_type": "execute_result"
    }
   ],
   "source": [
    "sum(multicases['Subtype_updated'] == multicases['DNAm_subtype_V2'])"
   ]
  },
  {
   "cell_type": "code",
   "execution_count": 19,
   "metadata": {
    "ExecuteTime": {
     "end_time": "2023-09-15T07:22:49.897121Z",
     "start_time": "2023-09-15T07:22:49.859536Z"
    }
   },
   "outputs": [
    {
     "data": {
      "text/html": [
       "<div>\n",
       "<style scoped>\n",
       "    .dataframe tbody tr th:only-of-type {\n",
       "        vertical-align: middle;\n",
       "    }\n",
       "\n",
       "    .dataframe tbody tr th {\n",
       "        vertical-align: top;\n",
       "    }\n",
       "\n",
       "    .dataframe thead th {\n",
       "        text-align: right;\n",
       "    }\n",
       "</style>\n",
       "<table border=\"1\" class=\"dataframe\">\n",
       "  <thead>\n",
       "    <tr style=\"text-align: right;\">\n",
       "      <th></th>\n",
       "      <th>Subtype_updated</th>\n",
       "      <th>aneuploidy.classifier.proba</th>\n",
       "      <th>HeH.classifier.proba</th>\n",
       "      <th>low HeH.classifier.proba</th>\n",
       "      <th>iAMP21.classifier.proba</th>\n",
       "      <th>Hypo.classifier.proba</th>\n",
       "      <th>ph-group.classifier.proba</th>\n",
       "      <th>t(9;22).classifier.proba</th>\n",
       "      <th>ph-like.classifier.proba</th>\n",
       "      <th>ETV6-group.classifier.proba</th>\n",
       "      <th>...</th>\n",
       "      <th>Control.classifier.proba</th>\n",
       "      <th>#predicted.classes</th>\n",
       "      <th>DNAm_subtype</th>\n",
       "      <th>Subtype detailed_v1</th>\n",
       "      <th>Probability detailed_v1</th>\n",
       "      <th>DNAm_subtype_groups</th>\n",
       "      <th>#classes.updated</th>\n",
       "      <th>DNAm_probability_V2</th>\n",
       "      <th>DNAm_subtype_V2</th>\n",
       "      <th>DNAm_subtype_comments</th>\n",
       "    </tr>\n",
       "    <tr>\n",
       "      <th>public_id</th>\n",
       "      <th></th>\n",
       "      <th></th>\n",
       "      <th></th>\n",
       "      <th></th>\n",
       "      <th></th>\n",
       "      <th></th>\n",
       "      <th></th>\n",
       "      <th></th>\n",
       "      <th></th>\n",
       "      <th></th>\n",
       "      <th></th>\n",
       "      <th></th>\n",
       "      <th></th>\n",
       "      <th></th>\n",
       "      <th></th>\n",
       "      <th></th>\n",
       "      <th></th>\n",
       "      <th></th>\n",
       "      <th></th>\n",
       "      <th></th>\n",
       "      <th></th>\n",
       "    </tr>\n",
       "  </thead>\n",
       "  <tbody>\n",
       "    <tr>\n",
       "      <th>0121C</th>\n",
       "      <td>HeH</td>\n",
       "      <td>0.902340</td>\n",
       "      <td>0.555763</td>\n",
       "      <td>0.210171</td>\n",
       "      <td>0.084246</td>\n",
       "      <td>0.149820</td>\n",
       "      <td>0.396537</td>\n",
       "      <td>NaN</td>\n",
       "      <td>NaN</td>\n",
       "      <td>0.145069</td>\n",
       "      <td>...</td>\n",
       "      <td>0.061994</td>\n",
       "      <td>1</td>\n",
       "      <td>aneuploidy</td>\n",
       "      <td>aneuploidy</td>\n",
       "      <td>0.9023</td>\n",
       "      <td>aneuploidy</td>\n",
       "      <td>1</td>\n",
       "      <td>0.5558</td>\n",
       "      <td>HeH</td>\n",
       "      <td>Manual check is required</td>\n",
       "    </tr>\n",
       "    <tr>\n",
       "      <th>0419C</th>\n",
       "      <td>HeH</td>\n",
       "      <td>0.794405</td>\n",
       "      <td>0.711495</td>\n",
       "      <td>0.134757</td>\n",
       "      <td>0.033852</td>\n",
       "      <td>0.119895</td>\n",
       "      <td>0.256006</td>\n",
       "      <td>NaN</td>\n",
       "      <td>NaN</td>\n",
       "      <td>0.116036</td>\n",
       "      <td>...</td>\n",
       "      <td>0.072097</td>\n",
       "      <td>1</td>\n",
       "      <td>aneuploidy</td>\n",
       "      <td>aneuploidy</td>\n",
       "      <td>0.7944</td>\n",
       "      <td>aneuploidy</td>\n",
       "      <td>1</td>\n",
       "      <td>0.7115</td>\n",
       "      <td>HeH</td>\n",
       "      <td>Passed control</td>\n",
       "    </tr>\n",
       "    <tr>\n",
       "      <th>0544C</th>\n",
       "      <td>HeH</td>\n",
       "      <td>0.901261</td>\n",
       "      <td>0.742850</td>\n",
       "      <td>0.114480</td>\n",
       "      <td>0.041967</td>\n",
       "      <td>0.100702</td>\n",
       "      <td>0.312276</td>\n",
       "      <td>NaN</td>\n",
       "      <td>NaN</td>\n",
       "      <td>0.115118</td>\n",
       "      <td>...</td>\n",
       "      <td>0.056257</td>\n",
       "      <td>1</td>\n",
       "      <td>aneuploidy</td>\n",
       "      <td>aneuploidy</td>\n",
       "      <td>0.9013</td>\n",
       "      <td>aneuploidy</td>\n",
       "      <td>1</td>\n",
       "      <td>0.7429</td>\n",
       "      <td>HeH</td>\n",
       "      <td>Passed control</td>\n",
       "    </tr>\n",
       "    <tr>\n",
       "      <th>0592C</th>\n",
       "      <td>HeH</td>\n",
       "      <td>0.889614</td>\n",
       "      <td>0.711914</td>\n",
       "      <td>0.123170</td>\n",
       "      <td>0.041019</td>\n",
       "      <td>0.123897</td>\n",
       "      <td>0.367834</td>\n",
       "      <td>NaN</td>\n",
       "      <td>NaN</td>\n",
       "      <td>0.151939</td>\n",
       "      <td>...</td>\n",
       "      <td>0.073839</td>\n",
       "      <td>1</td>\n",
       "      <td>aneuploidy</td>\n",
       "      <td>aneuploidy</td>\n",
       "      <td>0.8896</td>\n",
       "      <td>aneuploidy</td>\n",
       "      <td>1</td>\n",
       "      <td>0.7119</td>\n",
       "      <td>HeH</td>\n",
       "      <td>Passed control</td>\n",
       "    </tr>\n",
       "    <tr>\n",
       "      <th>0166C</th>\n",
       "      <td>HeH</td>\n",
       "      <td>0.861197</td>\n",
       "      <td>0.486534</td>\n",
       "      <td>0.232336</td>\n",
       "      <td>0.103393</td>\n",
       "      <td>0.177736</td>\n",
       "      <td>0.464975</td>\n",
       "      <td>NaN</td>\n",
       "      <td>NaN</td>\n",
       "      <td>0.102057</td>\n",
       "      <td>...</td>\n",
       "      <td>0.060036</td>\n",
       "      <td>1</td>\n",
       "      <td>aneuploidy</td>\n",
       "      <td>aneuploidy</td>\n",
       "      <td>0.8612</td>\n",
       "      <td>aneuploidy</td>\n",
       "      <td>1</td>\n",
       "      <td>0.4865</td>\n",
       "      <td>HeH</td>\n",
       "      <td>Manual check is required</td>\n",
       "    </tr>\n",
       "    <tr>\n",
       "      <th>...</th>\n",
       "      <td>...</td>\n",
       "      <td>...</td>\n",
       "      <td>...</td>\n",
       "      <td>...</td>\n",
       "      <td>...</td>\n",
       "      <td>...</td>\n",
       "      <td>...</td>\n",
       "      <td>...</td>\n",
       "      <td>...</td>\n",
       "      <td>...</td>\n",
       "      <td>...</td>\n",
       "      <td>...</td>\n",
       "      <td>...</td>\n",
       "      <td>...</td>\n",
       "      <td>...</td>\n",
       "      <td>...</td>\n",
       "      <td>...</td>\n",
       "      <td>...</td>\n",
       "      <td>...</td>\n",
       "      <td>...</td>\n",
       "      <td>...</td>\n",
       "    </tr>\n",
       "    <tr>\n",
       "      <th>U017C</th>\n",
       "      <td>B-other</td>\n",
       "      <td>0.881986</td>\n",
       "      <td>0.430624</td>\n",
       "      <td>0.191648</td>\n",
       "      <td>0.103974</td>\n",
       "      <td>0.273754</td>\n",
       "      <td>0.526461</td>\n",
       "      <td>0.751138</td>\n",
       "      <td>0.248862</td>\n",
       "      <td>0.082388</td>\n",
       "      <td>...</td>\n",
       "      <td>0.062420</td>\n",
       "      <td>2</td>\n",
       "      <td>multiclass</td>\n",
       "      <td>aneuploidy, ph-group</td>\n",
       "      <td>0.882, 0.5265</td>\n",
       "      <td>aneuploidy</td>\n",
       "      <td>1</td>\n",
       "      <td>0.4306</td>\n",
       "      <td>HeH</td>\n",
       "      <td>Manual check is required</td>\n",
       "    </tr>\n",
       "    <tr>\n",
       "      <th>U018C</th>\n",
       "      <td>B-other</td>\n",
       "      <td>0.156577</td>\n",
       "      <td>NaN</td>\n",
       "      <td>NaN</td>\n",
       "      <td>NaN</td>\n",
       "      <td>NaN</td>\n",
       "      <td>0.300005</td>\n",
       "      <td>NaN</td>\n",
       "      <td>NaN</td>\n",
       "      <td>0.173592</td>\n",
       "      <td>...</td>\n",
       "      <td>0.092790</td>\n",
       "      <td>1</td>\n",
       "      <td>t(1;19)</td>\n",
       "      <td>t(1;19)</td>\n",
       "      <td>0.9224</td>\n",
       "      <td>t(1;19)</td>\n",
       "      <td>1</td>\n",
       "      <td>0.9224</td>\n",
       "      <td>t(1;19)</td>\n",
       "      <td>Passed control</td>\n",
       "    </tr>\n",
       "    <tr>\n",
       "      <th>U019C</th>\n",
       "      <td>B-other</td>\n",
       "      <td>0.405947</td>\n",
       "      <td>NaN</td>\n",
       "      <td>NaN</td>\n",
       "      <td>NaN</td>\n",
       "      <td>NaN</td>\n",
       "      <td>0.327644</td>\n",
       "      <td>NaN</td>\n",
       "      <td>NaN</td>\n",
       "      <td>0.125455</td>\n",
       "      <td>...</td>\n",
       "      <td>0.224429</td>\n",
       "      <td>0</td>\n",
       "      <td>no_class</td>\n",
       "      <td>no_class</td>\n",
       "      <td>&lt;0.5</td>\n",
       "      <td>no_class</td>\n",
       "      <td>0</td>\n",
       "      <td>&lt;0.5</td>\n",
       "      <td>no_class</td>\n",
       "      <td>No class prediction</td>\n",
       "    </tr>\n",
       "    <tr>\n",
       "      <th>U020C</th>\n",
       "      <td>B-other</td>\n",
       "      <td>0.103639</td>\n",
       "      <td>NaN</td>\n",
       "      <td>NaN</td>\n",
       "      <td>NaN</td>\n",
       "      <td>NaN</td>\n",
       "      <td>0.242170</td>\n",
       "      <td>NaN</td>\n",
       "      <td>NaN</td>\n",
       "      <td>0.698056</td>\n",
       "      <td>...</td>\n",
       "      <td>0.078156</td>\n",
       "      <td>1</td>\n",
       "      <td>ETV6-group</td>\n",
       "      <td>ETV6-group</td>\n",
       "      <td>0.6981</td>\n",
       "      <td>ETV6-group</td>\n",
       "      <td>1</td>\n",
       "      <td>0.6978</td>\n",
       "      <td>t(12;21)</td>\n",
       "      <td>Manual check is required</td>\n",
       "    </tr>\n",
       "    <tr>\n",
       "      <th>U021C</th>\n",
       "      <td>B-other</td>\n",
       "      <td>0.201126</td>\n",
       "      <td>NaN</td>\n",
       "      <td>NaN</td>\n",
       "      <td>NaN</td>\n",
       "      <td>NaN</td>\n",
       "      <td>0.291650</td>\n",
       "      <td>NaN</td>\n",
       "      <td>NaN</td>\n",
       "      <td>0.724108</td>\n",
       "      <td>...</td>\n",
       "      <td>0.065169</td>\n",
       "      <td>1</td>\n",
       "      <td>ETV6-group</td>\n",
       "      <td>ETV6-group</td>\n",
       "      <td>0.7241</td>\n",
       "      <td>ETV6-group</td>\n",
       "      <td>1</td>\n",
       "      <td>0.6306</td>\n",
       "      <td>t(12;21)-like</td>\n",
       "      <td>Manual check is required</td>\n",
       "    </tr>\n",
       "  </tbody>\n",
       "</table>\n",
       "<p>227 rows × 31 columns</p>\n",
       "</div>"
      ],
      "text/plain": [
       "          Subtype_updated  aneuploidy.classifier.proba  HeH.classifier.proba  \\\n",
       "public_id                                                                      \n",
       "0121C                 HeH                     0.902340              0.555763   \n",
       "0419C                 HeH                     0.794405              0.711495   \n",
       "0544C                 HeH                     0.901261              0.742850   \n",
       "0592C                 HeH                     0.889614              0.711914   \n",
       "0166C                 HeH                     0.861197              0.486534   \n",
       "...                   ...                          ...                   ...   \n",
       "U017C             B-other                     0.881986              0.430624   \n",
       "U018C             B-other                     0.156577                   NaN   \n",
       "U019C             B-other                     0.405947                   NaN   \n",
       "U020C             B-other                     0.103639                   NaN   \n",
       "U021C             B-other                     0.201126                   NaN   \n",
       "\n",
       "           low HeH.classifier.proba  iAMP21.classifier.proba  \\\n",
       "public_id                                                      \n",
       "0121C                      0.210171                 0.084246   \n",
       "0419C                      0.134757                 0.033852   \n",
       "0544C                      0.114480                 0.041967   \n",
       "0592C                      0.123170                 0.041019   \n",
       "0166C                      0.232336                 0.103393   \n",
       "...                             ...                      ...   \n",
       "U017C                      0.191648                 0.103974   \n",
       "U018C                           NaN                      NaN   \n",
       "U019C                           NaN                      NaN   \n",
       "U020C                           NaN                      NaN   \n",
       "U021C                           NaN                      NaN   \n",
       "\n",
       "           Hypo.classifier.proba  ph-group.classifier.proba  \\\n",
       "public_id                                                     \n",
       "0121C                   0.149820                   0.396537   \n",
       "0419C                   0.119895                   0.256006   \n",
       "0544C                   0.100702                   0.312276   \n",
       "0592C                   0.123897                   0.367834   \n",
       "0166C                   0.177736                   0.464975   \n",
       "...                          ...                        ...   \n",
       "U017C                   0.273754                   0.526461   \n",
       "U018C                        NaN                   0.300005   \n",
       "U019C                        NaN                   0.327644   \n",
       "U020C                        NaN                   0.242170   \n",
       "U021C                        NaN                   0.291650   \n",
       "\n",
       "           t(9;22).classifier.proba  ph-like.classifier.proba  \\\n",
       "public_id                                                       \n",
       "0121C                           NaN                       NaN   \n",
       "0419C                           NaN                       NaN   \n",
       "0544C                           NaN                       NaN   \n",
       "0592C                           NaN                       NaN   \n",
       "0166C                           NaN                       NaN   \n",
       "...                             ...                       ...   \n",
       "U017C                      0.751138                  0.248862   \n",
       "U018C                           NaN                       NaN   \n",
       "U019C                           NaN                       NaN   \n",
       "U020C                           NaN                       NaN   \n",
       "U021C                           NaN                       NaN   \n",
       "\n",
       "           ETV6-group.classifier.proba  ...  Control.classifier.proba  \\\n",
       "public_id                               ...                             \n",
       "0121C                         0.145069  ...                  0.061994   \n",
       "0419C                         0.116036  ...                  0.072097   \n",
       "0544C                         0.115118  ...                  0.056257   \n",
       "0592C                         0.151939  ...                  0.073839   \n",
       "0166C                         0.102057  ...                  0.060036   \n",
       "...                                ...  ...                       ...   \n",
       "U017C                         0.082388  ...                  0.062420   \n",
       "U018C                         0.173592  ...                  0.092790   \n",
       "U019C                         0.125455  ...                  0.224429   \n",
       "U020C                         0.698056  ...                  0.078156   \n",
       "U021C                         0.724108  ...                  0.065169   \n",
       "\n",
       "           #predicted.classes  DNAm_subtype   Subtype detailed_v1  \\\n",
       "public_id                                                           \n",
       "0121C                       1    aneuploidy            aneuploidy   \n",
       "0419C                       1    aneuploidy            aneuploidy   \n",
       "0544C                       1    aneuploidy            aneuploidy   \n",
       "0592C                       1    aneuploidy            aneuploidy   \n",
       "0166C                       1    aneuploidy            aneuploidy   \n",
       "...                       ...           ...                   ...   \n",
       "U017C                       2    multiclass  aneuploidy, ph-group   \n",
       "U018C                       1       t(1;19)               t(1;19)   \n",
       "U019C                       0      no_class              no_class   \n",
       "U020C                       1    ETV6-group            ETV6-group   \n",
       "U021C                       1    ETV6-group            ETV6-group   \n",
       "\n",
       "           Probability detailed_v1  DNAm_subtype_groups  #classes.updated  \\\n",
       "public_id                                                                   \n",
       "0121C                       0.9023           aneuploidy                 1   \n",
       "0419C                       0.7944           aneuploidy                 1   \n",
       "0544C                       0.9013           aneuploidy                 1   \n",
       "0592C                       0.8896           aneuploidy                 1   \n",
       "0166C                       0.8612           aneuploidy                 1   \n",
       "...                            ...                  ...               ...   \n",
       "U017C                0.882, 0.5265           aneuploidy                 1   \n",
       "U018C                       0.9224              t(1;19)                 1   \n",
       "U019C                         <0.5             no_class                 0   \n",
       "U020C                       0.6981           ETV6-group                 1   \n",
       "U021C                       0.7241           ETV6-group                 1   \n",
       "\n",
       "           DNAm_probability_V2  DNAm_subtype_V2     DNAm_subtype_comments  \n",
       "public_id                                                                  \n",
       "0121C                   0.5558              HeH  Manual check is required  \n",
       "0419C                   0.7115              HeH            Passed control  \n",
       "0544C                   0.7429              HeH            Passed control  \n",
       "0592C                   0.7119              HeH            Passed control  \n",
       "0166C                   0.4865              HeH  Manual check is required  \n",
       "...                        ...              ...                       ...  \n",
       "U017C                   0.4306              HeH  Manual check is required  \n",
       "U018C                   0.9224          t(1;19)            Passed control  \n",
       "U019C                     <0.5         no_class       No class prediction  \n",
       "U020C                   0.6978         t(12;21)  Manual check is required  \n",
       "U021C                   0.6306    t(12;21)-like  Manual check is required  \n",
       "\n",
       "[227 rows x 31 columns]"
      ]
     },
     "execution_count": 19,
     "metadata": {},
     "output_type": "execute_result"
    }
   ],
   "source": [
    "valgen"
   ]
  },
  {
   "cell_type": "code",
   "execution_count": 20,
   "metadata": {
    "ExecuteTime": {
     "end_time": "2023-09-15T07:23:05.836542Z",
     "start_time": "2023-09-15T07:23:05.816546Z"
    }
   },
   "outputs": [],
   "source": [
    "valgen.to_csv('../outputs/DNAm_GEO_predictions.csv')"
   ]
  },
  {
   "cell_type": "code",
   "execution_count": 21,
   "metadata": {
    "ExecuteTime": {
     "end_time": "2023-09-15T07:23:06.399863Z",
     "start_time": "2023-09-15T07:23:06.390864Z"
    }
   },
   "outputs": [
    {
     "data": {
      "text/plain": [
       "112"
      ]
     },
     "execution_count": 21,
     "metadata": {},
     "output_type": "execute_result"
    }
   ],
   "source": [
    "sum(valgen.DNAm_subtype_V2 == testpheno.Subtype_updated)"
   ]
  },
  {
   "cell_type": "code",
   "execution_count": 22,
   "metadata": {
    "ExecuteTime": {
     "end_time": "2023-09-15T07:23:07.230818Z",
     "start_time": "2023-09-15T07:23:07.193824Z"
    },
    "scrolled": true
   },
   "outputs": [
    {
     "data": {
      "text/html": [
       "<div>\n",
       "<style scoped>\n",
       "    .dataframe tbody tr th:only-of-type {\n",
       "        vertical-align: middle;\n",
       "    }\n",
       "\n",
       "    .dataframe tbody tr th {\n",
       "        vertical-align: top;\n",
       "    }\n",
       "\n",
       "    .dataframe thead th {\n",
       "        text-align: right;\n",
       "    }\n",
       "</style>\n",
       "<table border=\"1\" class=\"dataframe\">\n",
       "  <thead>\n",
       "    <tr style=\"text-align: right;\">\n",
       "      <th></th>\n",
       "      <th>Subtype_updated</th>\n",
       "      <th>aneuploidy.classifier.proba</th>\n",
       "      <th>HeH.classifier.proba</th>\n",
       "      <th>low HeH.classifier.proba</th>\n",
       "      <th>iAMP21.classifier.proba</th>\n",
       "      <th>Hypo.classifier.proba</th>\n",
       "      <th>ph-group.classifier.proba</th>\n",
       "      <th>t(9;22).classifier.proba</th>\n",
       "      <th>ph-like.classifier.proba</th>\n",
       "      <th>ETV6-group.classifier.proba</th>\n",
       "      <th>...</th>\n",
       "      <th>Control.classifier.proba</th>\n",
       "      <th>#predicted.classes</th>\n",
       "      <th>DNAm_subtype</th>\n",
       "      <th>Subtype detailed_v1</th>\n",
       "      <th>Probability detailed_v1</th>\n",
       "      <th>DNAm_subtype_groups</th>\n",
       "      <th>#classes.updated</th>\n",
       "      <th>DNAm_probability_V2</th>\n",
       "      <th>DNAm_subtype_V2</th>\n",
       "      <th>DNAm_subtype_comments</th>\n",
       "    </tr>\n",
       "    <tr>\n",
       "      <th>public_id</th>\n",
       "      <th></th>\n",
       "      <th></th>\n",
       "      <th></th>\n",
       "      <th></th>\n",
       "      <th></th>\n",
       "      <th></th>\n",
       "      <th></th>\n",
       "      <th></th>\n",
       "      <th></th>\n",
       "      <th></th>\n",
       "      <th></th>\n",
       "      <th></th>\n",
       "      <th></th>\n",
       "      <th></th>\n",
       "      <th></th>\n",
       "      <th></th>\n",
       "      <th></th>\n",
       "      <th></th>\n",
       "      <th></th>\n",
       "      <th></th>\n",
       "      <th></th>\n",
       "    </tr>\n",
       "  </thead>\n",
       "  <tbody>\n",
       "    <tr>\n",
       "      <th>0689C</th>\n",
       "      <td>HeH</td>\n",
       "      <td>0.190869</td>\n",
       "      <td>NaN</td>\n",
       "      <td>NaN</td>\n",
       "      <td>NaN</td>\n",
       "      <td>NaN</td>\n",
       "      <td>0.336000</td>\n",
       "      <td>NaN</td>\n",
       "      <td>NaN</td>\n",
       "      <td>0.823305</td>\n",
       "      <td>...</td>\n",
       "      <td>0.084440</td>\n",
       "      <td>1</td>\n",
       "      <td>ETV6-group</td>\n",
       "      <td>ETV6-group</td>\n",
       "      <td>0.8233</td>\n",
       "      <td>ETV6-group</td>\n",
       "      <td>1</td>\n",
       "      <td>0.7618</td>\n",
       "      <td>t(12;21)</td>\n",
       "      <td>Passed control</td>\n",
       "    </tr>\n",
       "    <tr>\n",
       "      <th>0354C</th>\n",
       "      <td>HeH</td>\n",
       "      <td>0.251092</td>\n",
       "      <td>NaN</td>\n",
       "      <td>NaN</td>\n",
       "      <td>NaN</td>\n",
       "      <td>NaN</td>\n",
       "      <td>0.276505</td>\n",
       "      <td>NaN</td>\n",
       "      <td>NaN</td>\n",
       "      <td>0.131567</td>\n",
       "      <td>...</td>\n",
       "      <td>0.873450</td>\n",
       "      <td>1</td>\n",
       "      <td>Control</td>\n",
       "      <td>Control</td>\n",
       "      <td>0.8735</td>\n",
       "      <td>Control</td>\n",
       "      <td>1</td>\n",
       "      <td>0.8735</td>\n",
       "      <td>Control</td>\n",
       "      <td>Passed control</td>\n",
       "    </tr>\n",
       "    <tr>\n",
       "      <th>0388C</th>\n",
       "      <td>HeH</td>\n",
       "      <td>0.339292</td>\n",
       "      <td>NaN</td>\n",
       "      <td>NaN</td>\n",
       "      <td>NaN</td>\n",
       "      <td>NaN</td>\n",
       "      <td>0.300730</td>\n",
       "      <td>NaN</td>\n",
       "      <td>NaN</td>\n",
       "      <td>0.091882</td>\n",
       "      <td>...</td>\n",
       "      <td>0.432515</td>\n",
       "      <td>0</td>\n",
       "      <td>no_class</td>\n",
       "      <td>no_class</td>\n",
       "      <td>&lt;0.5</td>\n",
       "      <td>no_class</td>\n",
       "      <td>0</td>\n",
       "      <td>&lt;0.5</td>\n",
       "      <td>no_class</td>\n",
       "      <td>No class prediction</td>\n",
       "    </tr>\n",
       "    <tr>\n",
       "      <th>1662C</th>\n",
       "      <td>HeH</td>\n",
       "      <td>0.254767</td>\n",
       "      <td>NaN</td>\n",
       "      <td>NaN</td>\n",
       "      <td>NaN</td>\n",
       "      <td>NaN</td>\n",
       "      <td>0.284314</td>\n",
       "      <td>NaN</td>\n",
       "      <td>NaN</td>\n",
       "      <td>0.123917</td>\n",
       "      <td>...</td>\n",
       "      <td>0.699292</td>\n",
       "      <td>1</td>\n",
       "      <td>Control</td>\n",
       "      <td>Control</td>\n",
       "      <td>0.6993</td>\n",
       "      <td>Control</td>\n",
       "      <td>1</td>\n",
       "      <td>0.6993</td>\n",
       "      <td>Control</td>\n",
       "      <td>Manual check is required</td>\n",
       "    </tr>\n",
       "    <tr>\n",
       "      <th>0591C</th>\n",
       "      <td>HeH</td>\n",
       "      <td>0.849900</td>\n",
       "      <td>0.253691</td>\n",
       "      <td>0.335704</td>\n",
       "      <td>0.244330</td>\n",
       "      <td>0.166275</td>\n",
       "      <td>0.547332</td>\n",
       "      <td>0.4822</td>\n",
       "      <td>0.5178</td>\n",
       "      <td>0.125186</td>\n",
       "      <td>...</td>\n",
       "      <td>0.076288</td>\n",
       "      <td>2</td>\n",
       "      <td>multiclass</td>\n",
       "      <td>aneuploidy, ph-group</td>\n",
       "      <td>0.8499, 0.5473</td>\n",
       "      <td>aneuploidy</td>\n",
       "      <td>1</td>\n",
       "      <td>0.3357</td>\n",
       "      <td>low HeH</td>\n",
       "      <td>Manual check is required</td>\n",
       "    </tr>\n",
       "    <tr>\n",
       "      <th>0580C</th>\n",
       "      <td>HeH</td>\n",
       "      <td>0.460624</td>\n",
       "      <td>NaN</td>\n",
       "      <td>NaN</td>\n",
       "      <td>NaN</td>\n",
       "      <td>NaN</td>\n",
       "      <td>0.488982</td>\n",
       "      <td>NaN</td>\n",
       "      <td>NaN</td>\n",
       "      <td>0.177548</td>\n",
       "      <td>...</td>\n",
       "      <td>0.639796</td>\n",
       "      <td>1</td>\n",
       "      <td>Control</td>\n",
       "      <td>Control</td>\n",
       "      <td>0.6398</td>\n",
       "      <td>Control</td>\n",
       "      <td>1</td>\n",
       "      <td>0.6398</td>\n",
       "      <td>Control</td>\n",
       "      <td>Manual check is required</td>\n",
       "    </tr>\n",
       "    <tr>\n",
       "      <th>0798C</th>\n",
       "      <td>HeH</td>\n",
       "      <td>0.497503</td>\n",
       "      <td>NaN</td>\n",
       "      <td>NaN</td>\n",
       "      <td>NaN</td>\n",
       "      <td>NaN</td>\n",
       "      <td>0.360148</td>\n",
       "      <td>NaN</td>\n",
       "      <td>NaN</td>\n",
       "      <td>0.150433</td>\n",
       "      <td>...</td>\n",
       "      <td>0.090434</td>\n",
       "      <td>0</td>\n",
       "      <td>no_class</td>\n",
       "      <td>no_class</td>\n",
       "      <td>&lt;0.5</td>\n",
       "      <td>no_class</td>\n",
       "      <td>0</td>\n",
       "      <td>&lt;0.5</td>\n",
       "      <td>no_class</td>\n",
       "      <td>No class prediction</td>\n",
       "    </tr>\n",
       "    <tr>\n",
       "      <th>0741C</th>\n",
       "      <td>HeH</td>\n",
       "      <td>0.153449</td>\n",
       "      <td>NaN</td>\n",
       "      <td>NaN</td>\n",
       "      <td>NaN</td>\n",
       "      <td>NaN</td>\n",
       "      <td>0.286919</td>\n",
       "      <td>NaN</td>\n",
       "      <td>NaN</td>\n",
       "      <td>0.176096</td>\n",
       "      <td>...</td>\n",
       "      <td>0.085378</td>\n",
       "      <td>1</td>\n",
       "      <td>t(1;19)</td>\n",
       "      <td>t(1;19)</td>\n",
       "      <td>0.9074</td>\n",
       "      <td>t(1;19)</td>\n",
       "      <td>1</td>\n",
       "      <td>0.9074</td>\n",
       "      <td>t(1;19)</td>\n",
       "      <td>Passed control</td>\n",
       "    </tr>\n",
       "    <tr>\n",
       "      <th>0953C</th>\n",
       "      <td>HeH</td>\n",
       "      <td>0.200893</td>\n",
       "      <td>NaN</td>\n",
       "      <td>NaN</td>\n",
       "      <td>NaN</td>\n",
       "      <td>NaN</td>\n",
       "      <td>0.298889</td>\n",
       "      <td>NaN</td>\n",
       "      <td>NaN</td>\n",
       "      <td>0.113451</td>\n",
       "      <td>...</td>\n",
       "      <td>0.732226</td>\n",
       "      <td>1</td>\n",
       "      <td>Control</td>\n",
       "      <td>Control</td>\n",
       "      <td>0.7322</td>\n",
       "      <td>Control</td>\n",
       "      <td>1</td>\n",
       "      <td>0.7322</td>\n",
       "      <td>Control</td>\n",
       "      <td>Passed control</td>\n",
       "    </tr>\n",
       "    <tr>\n",
       "      <th>0873C</th>\n",
       "      <td>HeH</td>\n",
       "      <td>0.393413</td>\n",
       "      <td>NaN</td>\n",
       "      <td>NaN</td>\n",
       "      <td>NaN</td>\n",
       "      <td>NaN</td>\n",
       "      <td>0.468122</td>\n",
       "      <td>NaN</td>\n",
       "      <td>NaN</td>\n",
       "      <td>0.265436</td>\n",
       "      <td>...</td>\n",
       "      <td>0.179302</td>\n",
       "      <td>2</td>\n",
       "      <td>multiclass</td>\n",
       "      <td>PAX5alt, MEF2D-r</td>\n",
       "      <td>0.5217, 0.6792</td>\n",
       "      <td>MEF2D-r</td>\n",
       "      <td>1</td>\n",
       "      <td>0.6792</td>\n",
       "      <td>MEF2D-r</td>\n",
       "      <td>Manual check is required</td>\n",
       "    </tr>\n",
       "    <tr>\n",
       "      <th>1272C</th>\n",
       "      <td>HeH</td>\n",
       "      <td>0.474989</td>\n",
       "      <td>NaN</td>\n",
       "      <td>NaN</td>\n",
       "      <td>NaN</td>\n",
       "      <td>NaN</td>\n",
       "      <td>0.335567</td>\n",
       "      <td>NaN</td>\n",
       "      <td>NaN</td>\n",
       "      <td>0.112089</td>\n",
       "      <td>...</td>\n",
       "      <td>0.775306</td>\n",
       "      <td>1</td>\n",
       "      <td>Control</td>\n",
       "      <td>Control</td>\n",
       "      <td>0.7753</td>\n",
       "      <td>Control</td>\n",
       "      <td>1</td>\n",
       "      <td>0.7753</td>\n",
       "      <td>Control</td>\n",
       "      <td>Passed control</td>\n",
       "    </tr>\n",
       "    <tr>\n",
       "      <th>0670C</th>\n",
       "      <td>HeH</td>\n",
       "      <td>0.267327</td>\n",
       "      <td>NaN</td>\n",
       "      <td>NaN</td>\n",
       "      <td>NaN</td>\n",
       "      <td>NaN</td>\n",
       "      <td>0.335818</td>\n",
       "      <td>NaN</td>\n",
       "      <td>NaN</td>\n",
       "      <td>0.116437</td>\n",
       "      <td>...</td>\n",
       "      <td>0.847111</td>\n",
       "      <td>1</td>\n",
       "      <td>Control</td>\n",
       "      <td>Control</td>\n",
       "      <td>0.8471</td>\n",
       "      <td>Control</td>\n",
       "      <td>1</td>\n",
       "      <td>0.8471</td>\n",
       "      <td>Control</td>\n",
       "      <td>Passed control</td>\n",
       "    </tr>\n",
       "    <tr>\n",
       "      <th>0370C</th>\n",
       "      <td>t(12;21)</td>\n",
       "      <td>0.099589</td>\n",
       "      <td>NaN</td>\n",
       "      <td>NaN</td>\n",
       "      <td>NaN</td>\n",
       "      <td>NaN</td>\n",
       "      <td>0.244871</td>\n",
       "      <td>NaN</td>\n",
       "      <td>NaN</td>\n",
       "      <td>0.659441</td>\n",
       "      <td>...</td>\n",
       "      <td>0.068964</td>\n",
       "      <td>1</td>\n",
       "      <td>ETV6-group</td>\n",
       "      <td>ETV6-group</td>\n",
       "      <td>0.6594</td>\n",
       "      <td>ETV6-group</td>\n",
       "      <td>1</td>\n",
       "      <td>0.6931</td>\n",
       "      <td>t(12;21)-like</td>\n",
       "      <td>Manual check is required</td>\n",
       "    </tr>\n",
       "    <tr>\n",
       "      <th>1595C</th>\n",
       "      <td>t(12;21)</td>\n",
       "      <td>0.097308</td>\n",
       "      <td>NaN</td>\n",
       "      <td>NaN</td>\n",
       "      <td>NaN</td>\n",
       "      <td>NaN</td>\n",
       "      <td>0.244271</td>\n",
       "      <td>NaN</td>\n",
       "      <td>NaN</td>\n",
       "      <td>0.429762</td>\n",
       "      <td>...</td>\n",
       "      <td>0.482632</td>\n",
       "      <td>0</td>\n",
       "      <td>no_class</td>\n",
       "      <td>no_class</td>\n",
       "      <td>&lt;0.5</td>\n",
       "      <td>no_class</td>\n",
       "      <td>0</td>\n",
       "      <td>&lt;0.5</td>\n",
       "      <td>no_class</td>\n",
       "      <td>No class prediction</td>\n",
       "    </tr>\n",
       "    <tr>\n",
       "      <th>0565C</th>\n",
       "      <td>t(12;21)</td>\n",
       "      <td>0.144304</td>\n",
       "      <td>NaN</td>\n",
       "      <td>NaN</td>\n",
       "      <td>NaN</td>\n",
       "      <td>NaN</td>\n",
       "      <td>0.352360</td>\n",
       "      <td>NaN</td>\n",
       "      <td>NaN</td>\n",
       "      <td>0.393040</td>\n",
       "      <td>...</td>\n",
       "      <td>0.599846</td>\n",
       "      <td>1</td>\n",
       "      <td>Control</td>\n",
       "      <td>Control</td>\n",
       "      <td>0.5998</td>\n",
       "      <td>Control</td>\n",
       "      <td>1</td>\n",
       "      <td>0.5998</td>\n",
       "      <td>Control</td>\n",
       "      <td>Manual check is required</td>\n",
       "    </tr>\n",
       "    <tr>\n",
       "      <th>0543C</th>\n",
       "      <td>t(12;21)</td>\n",
       "      <td>0.110126</td>\n",
       "      <td>NaN</td>\n",
       "      <td>NaN</td>\n",
       "      <td>NaN</td>\n",
       "      <td>NaN</td>\n",
       "      <td>0.291011</td>\n",
       "      <td>NaN</td>\n",
       "      <td>NaN</td>\n",
       "      <td>0.466856</td>\n",
       "      <td>...</td>\n",
       "      <td>0.650408</td>\n",
       "      <td>1</td>\n",
       "      <td>Control</td>\n",
       "      <td>Control</td>\n",
       "      <td>0.6504</td>\n",
       "      <td>Control</td>\n",
       "      <td>1</td>\n",
       "      <td>0.6504</td>\n",
       "      <td>Control</td>\n",
       "      <td>Manual check is required</td>\n",
       "    </tr>\n",
       "    <tr>\n",
       "      <th>0718C</th>\n",
       "      <td>t(12;21)</td>\n",
       "      <td>0.100576</td>\n",
       "      <td>NaN</td>\n",
       "      <td>NaN</td>\n",
       "      <td>NaN</td>\n",
       "      <td>NaN</td>\n",
       "      <td>0.311864</td>\n",
       "      <td>NaN</td>\n",
       "      <td>NaN</td>\n",
       "      <td>0.204494</td>\n",
       "      <td>...</td>\n",
       "      <td>0.836615</td>\n",
       "      <td>1</td>\n",
       "      <td>Control</td>\n",
       "      <td>Control</td>\n",
       "      <td>0.8366</td>\n",
       "      <td>Control</td>\n",
       "      <td>1</td>\n",
       "      <td>0.8366</td>\n",
       "      <td>Control</td>\n",
       "      <td>Passed control</td>\n",
       "    </tr>\n",
       "    <tr>\n",
       "      <th>0690C</th>\n",
       "      <td>t(12;21)</td>\n",
       "      <td>0.289022</td>\n",
       "      <td>NaN</td>\n",
       "      <td>NaN</td>\n",
       "      <td>NaN</td>\n",
       "      <td>NaN</td>\n",
       "      <td>0.386613</td>\n",
       "      <td>NaN</td>\n",
       "      <td>NaN</td>\n",
       "      <td>0.129805</td>\n",
       "      <td>...</td>\n",
       "      <td>0.703791</td>\n",
       "      <td>1</td>\n",
       "      <td>Control</td>\n",
       "      <td>Control</td>\n",
       "      <td>0.7038</td>\n",
       "      <td>Control</td>\n",
       "      <td>1</td>\n",
       "      <td>0.7038</td>\n",
       "      <td>Control</td>\n",
       "      <td>Passed control</td>\n",
       "    </tr>\n",
       "    <tr>\n",
       "      <th>1544C</th>\n",
       "      <td>t(12;21)</td>\n",
       "      <td>0.107528</td>\n",
       "      <td>NaN</td>\n",
       "      <td>NaN</td>\n",
       "      <td>NaN</td>\n",
       "      <td>NaN</td>\n",
       "      <td>0.266319</td>\n",
       "      <td>NaN</td>\n",
       "      <td>NaN</td>\n",
       "      <td>0.404272</td>\n",
       "      <td>...</td>\n",
       "      <td>0.423450</td>\n",
       "      <td>0</td>\n",
       "      <td>no_class</td>\n",
       "      <td>no_class</td>\n",
       "      <td>&lt;0.5</td>\n",
       "      <td>no_class</td>\n",
       "      <td>0</td>\n",
       "      <td>&lt;0.5</td>\n",
       "      <td>no_class</td>\n",
       "      <td>No class prediction</td>\n",
       "    </tr>\n",
       "    <tr>\n",
       "      <th>1558C</th>\n",
       "      <td>t(12;21)</td>\n",
       "      <td>0.147312</td>\n",
       "      <td>NaN</td>\n",
       "      <td>NaN</td>\n",
       "      <td>NaN</td>\n",
       "      <td>NaN</td>\n",
       "      <td>0.402277</td>\n",
       "      <td>NaN</td>\n",
       "      <td>NaN</td>\n",
       "      <td>0.409385</td>\n",
       "      <td>...</td>\n",
       "      <td>0.642553</td>\n",
       "      <td>1</td>\n",
       "      <td>Control</td>\n",
       "      <td>Control</td>\n",
       "      <td>0.6426</td>\n",
       "      <td>Control</td>\n",
       "      <td>1</td>\n",
       "      <td>0.6426</td>\n",
       "      <td>Control</td>\n",
       "      <td>Manual check is required</td>\n",
       "    </tr>\n",
       "    <tr>\n",
       "      <th>0711C</th>\n",
       "      <td>t(1;19)</td>\n",
       "      <td>0.875354</td>\n",
       "      <td>0.550341</td>\n",
       "      <td>0.115044</td>\n",
       "      <td>0.063046</td>\n",
       "      <td>0.271568</td>\n",
       "      <td>0.365337</td>\n",
       "      <td>NaN</td>\n",
       "      <td>NaN</td>\n",
       "      <td>0.143591</td>\n",
       "      <td>...</td>\n",
       "      <td>0.107761</td>\n",
       "      <td>1</td>\n",
       "      <td>aneuploidy</td>\n",
       "      <td>aneuploidy</td>\n",
       "      <td>0.8754</td>\n",
       "      <td>aneuploidy</td>\n",
       "      <td>1</td>\n",
       "      <td>0.5503</td>\n",
       "      <td>HeH</td>\n",
       "      <td>Manual check is required</td>\n",
       "    </tr>\n",
       "  </tbody>\n",
       "</table>\n",
       "<p>21 rows × 31 columns</p>\n",
       "</div>"
      ],
      "text/plain": [
       "          Subtype_updated  aneuploidy.classifier.proba  HeH.classifier.proba  \\\n",
       "public_id                                                                      \n",
       "0689C                 HeH                     0.190869                   NaN   \n",
       "0354C                 HeH                     0.251092                   NaN   \n",
       "0388C                 HeH                     0.339292                   NaN   \n",
       "1662C                 HeH                     0.254767                   NaN   \n",
       "0591C                 HeH                     0.849900              0.253691   \n",
       "0580C                 HeH                     0.460624                   NaN   \n",
       "0798C                 HeH                     0.497503                   NaN   \n",
       "0741C                 HeH                     0.153449                   NaN   \n",
       "0953C                 HeH                     0.200893                   NaN   \n",
       "0873C                 HeH                     0.393413                   NaN   \n",
       "1272C                 HeH                     0.474989                   NaN   \n",
       "0670C                 HeH                     0.267327                   NaN   \n",
       "0370C            t(12;21)                     0.099589                   NaN   \n",
       "1595C            t(12;21)                     0.097308                   NaN   \n",
       "0565C            t(12;21)                     0.144304                   NaN   \n",
       "0543C            t(12;21)                     0.110126                   NaN   \n",
       "0718C            t(12;21)                     0.100576                   NaN   \n",
       "0690C            t(12;21)                     0.289022                   NaN   \n",
       "1544C            t(12;21)                     0.107528                   NaN   \n",
       "1558C            t(12;21)                     0.147312                   NaN   \n",
       "0711C             t(1;19)                     0.875354              0.550341   \n",
       "\n",
       "           low HeH.classifier.proba  iAMP21.classifier.proba  \\\n",
       "public_id                                                      \n",
       "0689C                           NaN                      NaN   \n",
       "0354C                           NaN                      NaN   \n",
       "0388C                           NaN                      NaN   \n",
       "1662C                           NaN                      NaN   \n",
       "0591C                      0.335704                 0.244330   \n",
       "0580C                           NaN                      NaN   \n",
       "0798C                           NaN                      NaN   \n",
       "0741C                           NaN                      NaN   \n",
       "0953C                           NaN                      NaN   \n",
       "0873C                           NaN                      NaN   \n",
       "1272C                           NaN                      NaN   \n",
       "0670C                           NaN                      NaN   \n",
       "0370C                           NaN                      NaN   \n",
       "1595C                           NaN                      NaN   \n",
       "0565C                           NaN                      NaN   \n",
       "0543C                           NaN                      NaN   \n",
       "0718C                           NaN                      NaN   \n",
       "0690C                           NaN                      NaN   \n",
       "1544C                           NaN                      NaN   \n",
       "1558C                           NaN                      NaN   \n",
       "0711C                      0.115044                 0.063046   \n",
       "\n",
       "           Hypo.classifier.proba  ph-group.classifier.proba  \\\n",
       "public_id                                                     \n",
       "0689C                        NaN                   0.336000   \n",
       "0354C                        NaN                   0.276505   \n",
       "0388C                        NaN                   0.300730   \n",
       "1662C                        NaN                   0.284314   \n",
       "0591C                   0.166275                   0.547332   \n",
       "0580C                        NaN                   0.488982   \n",
       "0798C                        NaN                   0.360148   \n",
       "0741C                        NaN                   0.286919   \n",
       "0953C                        NaN                   0.298889   \n",
       "0873C                        NaN                   0.468122   \n",
       "1272C                        NaN                   0.335567   \n",
       "0670C                        NaN                   0.335818   \n",
       "0370C                        NaN                   0.244871   \n",
       "1595C                        NaN                   0.244271   \n",
       "0565C                        NaN                   0.352360   \n",
       "0543C                        NaN                   0.291011   \n",
       "0718C                        NaN                   0.311864   \n",
       "0690C                        NaN                   0.386613   \n",
       "1544C                        NaN                   0.266319   \n",
       "1558C                        NaN                   0.402277   \n",
       "0711C                   0.271568                   0.365337   \n",
       "\n",
       "           t(9;22).classifier.proba  ph-like.classifier.proba  \\\n",
       "public_id                                                       \n",
       "0689C                           NaN                       NaN   \n",
       "0354C                           NaN                       NaN   \n",
       "0388C                           NaN                       NaN   \n",
       "1662C                           NaN                       NaN   \n",
       "0591C                        0.4822                    0.5178   \n",
       "0580C                           NaN                       NaN   \n",
       "0798C                           NaN                       NaN   \n",
       "0741C                           NaN                       NaN   \n",
       "0953C                           NaN                       NaN   \n",
       "0873C                           NaN                       NaN   \n",
       "1272C                           NaN                       NaN   \n",
       "0670C                           NaN                       NaN   \n",
       "0370C                           NaN                       NaN   \n",
       "1595C                           NaN                       NaN   \n",
       "0565C                           NaN                       NaN   \n",
       "0543C                           NaN                       NaN   \n",
       "0718C                           NaN                       NaN   \n",
       "0690C                           NaN                       NaN   \n",
       "1544C                           NaN                       NaN   \n",
       "1558C                           NaN                       NaN   \n",
       "0711C                           NaN                       NaN   \n",
       "\n",
       "           ETV6-group.classifier.proba  ...  Control.classifier.proba  \\\n",
       "public_id                               ...                             \n",
       "0689C                         0.823305  ...                  0.084440   \n",
       "0354C                         0.131567  ...                  0.873450   \n",
       "0388C                         0.091882  ...                  0.432515   \n",
       "1662C                         0.123917  ...                  0.699292   \n",
       "0591C                         0.125186  ...                  0.076288   \n",
       "0580C                         0.177548  ...                  0.639796   \n",
       "0798C                         0.150433  ...                  0.090434   \n",
       "0741C                         0.176096  ...                  0.085378   \n",
       "0953C                         0.113451  ...                  0.732226   \n",
       "0873C                         0.265436  ...                  0.179302   \n",
       "1272C                         0.112089  ...                  0.775306   \n",
       "0670C                         0.116437  ...                  0.847111   \n",
       "0370C                         0.659441  ...                  0.068964   \n",
       "1595C                         0.429762  ...                  0.482632   \n",
       "0565C                         0.393040  ...                  0.599846   \n",
       "0543C                         0.466856  ...                  0.650408   \n",
       "0718C                         0.204494  ...                  0.836615   \n",
       "0690C                         0.129805  ...                  0.703791   \n",
       "1544C                         0.404272  ...                  0.423450   \n",
       "1558C                         0.409385  ...                  0.642553   \n",
       "0711C                         0.143591  ...                  0.107761   \n",
       "\n",
       "           #predicted.classes  DNAm_subtype   Subtype detailed_v1  \\\n",
       "public_id                                                           \n",
       "0689C                       1    ETV6-group            ETV6-group   \n",
       "0354C                       1       Control               Control   \n",
       "0388C                       0      no_class              no_class   \n",
       "1662C                       1       Control               Control   \n",
       "0591C                       2    multiclass  aneuploidy, ph-group   \n",
       "0580C                       1       Control               Control   \n",
       "0798C                       0      no_class              no_class   \n",
       "0741C                       1       t(1;19)               t(1;19)   \n",
       "0953C                       1       Control               Control   \n",
       "0873C                       2    multiclass      PAX5alt, MEF2D-r   \n",
       "1272C                       1       Control               Control   \n",
       "0670C                       1       Control               Control   \n",
       "0370C                       1    ETV6-group            ETV6-group   \n",
       "1595C                       0      no_class              no_class   \n",
       "0565C                       1       Control               Control   \n",
       "0543C                       1       Control               Control   \n",
       "0718C                       1       Control               Control   \n",
       "0690C                       1       Control               Control   \n",
       "1544C                       0      no_class              no_class   \n",
       "1558C                       1       Control               Control   \n",
       "0711C                       1    aneuploidy            aneuploidy   \n",
       "\n",
       "           Probability detailed_v1  DNAm_subtype_groups  #classes.updated  \\\n",
       "public_id                                                                   \n",
       "0689C                       0.8233           ETV6-group                 1   \n",
       "0354C                       0.8735              Control                 1   \n",
       "0388C                         <0.5             no_class                 0   \n",
       "1662C                       0.6993              Control                 1   \n",
       "0591C               0.8499, 0.5473           aneuploidy                 1   \n",
       "0580C                       0.6398              Control                 1   \n",
       "0798C                         <0.5             no_class                 0   \n",
       "0741C                       0.9074              t(1;19)                 1   \n",
       "0953C                       0.7322              Control                 1   \n",
       "0873C               0.5217, 0.6792              MEF2D-r                 1   \n",
       "1272C                       0.7753              Control                 1   \n",
       "0670C                       0.8471              Control                 1   \n",
       "0370C                       0.6594           ETV6-group                 1   \n",
       "1595C                         <0.5             no_class                 0   \n",
       "0565C                       0.5998              Control                 1   \n",
       "0543C                       0.6504              Control                 1   \n",
       "0718C                       0.8366              Control                 1   \n",
       "0690C                       0.7038              Control                 1   \n",
       "1544C                         <0.5             no_class                 0   \n",
       "1558C                       0.6426              Control                 1   \n",
       "0711C                       0.8754           aneuploidy                 1   \n",
       "\n",
       "           DNAm_probability_V2  DNAm_subtype_V2     DNAm_subtype_comments  \n",
       "public_id                                                                  \n",
       "0689C                   0.7618         t(12;21)            Passed control  \n",
       "0354C                   0.8735          Control            Passed control  \n",
       "0388C                     <0.5         no_class       No class prediction  \n",
       "1662C                   0.6993          Control  Manual check is required  \n",
       "0591C                   0.3357          low HeH  Manual check is required  \n",
       "0580C                   0.6398          Control  Manual check is required  \n",
       "0798C                     <0.5         no_class       No class prediction  \n",
       "0741C                   0.9074          t(1;19)            Passed control  \n",
       "0953C                   0.7322          Control            Passed control  \n",
       "0873C                   0.6792          MEF2D-r  Manual check is required  \n",
       "1272C                   0.7753          Control            Passed control  \n",
       "0670C                   0.8471          Control            Passed control  \n",
       "0370C                   0.6931    t(12;21)-like  Manual check is required  \n",
       "1595C                     <0.5         no_class       No class prediction  \n",
       "0565C                   0.5998          Control  Manual check is required  \n",
       "0543C                   0.6504          Control  Manual check is required  \n",
       "0718C                   0.8366          Control            Passed control  \n",
       "0690C                   0.7038          Control            Passed control  \n",
       "1544C                     <0.5         no_class       No class prediction  \n",
       "1558C                   0.6426          Control  Manual check is required  \n",
       "0711C                   0.5503              HeH  Manual check is required  \n",
       "\n",
       "[21 rows x 31 columns]"
      ]
     },
     "execution_count": 22,
     "metadata": {},
     "output_type": "execute_result"
    }
   ],
   "source": [
    "valgen[(valgen.DNAm_subtype_V2 != testpheno.Subtype_updated) &(valgen.Subtype_updated != 'B-other')]"
   ]
  },
  {
   "cell_type": "code",
   "execution_count": 23,
   "metadata": {
    "ExecuteTime": {
     "end_time": "2023-09-15T07:23:07.563427Z",
     "start_time": "2023-09-15T07:23:07.547452Z"
    }
   },
   "outputs": [
    {
     "data": {
      "text/plain": [
       "Control          11\n",
       "no_class          4\n",
       "MEF2D-r           1\n",
       "t(12;21)-like     1\n",
       "t(12;21)          1\n",
       "t(1;19)           1\n",
       "HeH               1\n",
       "low HeH           1\n",
       "Name: DNAm_subtype_V2, dtype: int64"
      ]
     },
     "execution_count": 23,
     "metadata": {},
     "output_type": "execute_result"
    }
   ],
   "source": [
    "valgen[(valgen.DNAm_subtype_V2 != testpheno.Subtype_updated) &(valgen.Subtype_updated != 'B-other')].DNAm_subtype_V2.value_counts()"
   ]
  },
  {
   "cell_type": "code",
   "execution_count": 24,
   "metadata": {
    "ExecuteTime": {
     "end_time": "2023-09-15T07:23:07.998444Z",
     "start_time": "2023-09-15T07:23:07.982545Z"
    }
   },
   "outputs": [
    {
     "data": {
      "text/plain": [
       "PAX5alt            15\n",
       "no_class           13\n",
       "t(12;21)           10\n",
       "Control            10\n",
       "t(1;19)            10\n",
       "DUX4-r              7\n",
       "ph-like             6\n",
       "HeH                 6\n",
       "iAMP21              4\n",
       "ZNF384-r            4\n",
       "MEF2D-r             3\n",
       "t(12;21)-like       3\n",
       "T-ALL               1\n",
       "PAX5 p.Pro80Arg     1\n",
       "t(9;22)             1\n",
       "Name: DNAm_subtype_V2, dtype: int64"
      ]
     },
     "execution_count": 24,
     "metadata": {},
     "output_type": "execute_result"
    }
   ],
   "source": [
    "valgen[valgen.Subtype_updated == 'B-other'].DNAm_subtype_V2.value_counts()"
   ]
  },
  {
   "cell_type": "code",
   "execution_count": 25,
   "metadata": {
    "ExecuteTime": {
     "end_time": "2023-09-15T07:23:09.998567Z",
     "start_time": "2023-09-15T07:23:09.977353Z"
    }
   },
   "outputs": [
    {
     "data": {
      "text/plain": [
       "(94, 31)"
      ]
     },
     "execution_count": 25,
     "metadata": {},
     "output_type": "execute_result"
    }
   ],
   "source": [
    "valgen[valgen.Subtype_updated == 'B-other'].shape"
   ]
  },
  {
   "cell_type": "markdown",
   "metadata": {},
   "source": [
    "# Construct confusion matrix for the samples of known subtype (n = 133)"
   ]
  },
  {
   "cell_type": "code",
   "execution_count": 26,
   "metadata": {
    "ExecuteTime": {
     "end_time": "2023-09-15T07:23:11.064731Z",
     "start_time": "2023-09-15T07:23:11.054768Z"
    }
   },
   "outputs": [],
   "source": [
    "testdf = valgen[valgen.Subtype_updated != 'B-other']"
   ]
  },
  {
   "cell_type": "code",
   "execution_count": 27,
   "metadata": {
    "ExecuteTime": {
     "end_time": "2023-09-15T07:23:11.291644Z",
     "start_time": "2023-09-15T07:23:11.276017Z"
    }
   },
   "outputs": [
    {
     "data": {
      "text/plain": [
       "(133, 31)"
      ]
     },
     "execution_count": 27,
     "metadata": {},
     "output_type": "execute_result"
    }
   ],
   "source": [
    "testdf.shape"
   ]
  },
  {
   "cell_type": "code",
   "execution_count": 28,
   "metadata": {
    "ExecuteTime": {
     "end_time": "2023-09-15T07:23:12.601473Z",
     "start_time": "2023-09-15T07:23:12.588439Z"
    }
   },
   "outputs": [
    {
     "data": {
      "text/plain": [
       "HeH              62\n",
       "t(12;21)         45\n",
       "Control          11\n",
       "t(1;19)           6\n",
       "no_class          4\n",
       "11q23/MLL         2\n",
       "MEF2D-r           1\n",
       "t(12;21)-like     1\n",
       "low HeH           1\n",
       "Name: DNAm_subtype_V2, dtype: int64"
      ]
     },
     "execution_count": 28,
     "metadata": {},
     "output_type": "execute_result"
    }
   ],
   "source": [
    "testdf.DNAm_subtype_V2.value_counts()"
   ]
  },
  {
   "cell_type": "code",
   "execution_count": 29,
   "metadata": {
    "ExecuteTime": {
     "end_time": "2023-09-15T07:23:12.843202Z",
     "start_time": "2023-09-15T07:23:12.810641Z"
    }
   },
   "outputs": [
    {
     "data": {
      "text/plain": [
       "HeH          73\n",
       "t(12;21)     52\n",
       "t(1;19)       6\n",
       "11q23/MLL     2\n",
       "Name: Subtype_updated, dtype: int64"
      ]
     },
     "execution_count": 29,
     "metadata": {},
     "output_type": "execute_result"
    }
   ],
   "source": [
    "testdf.Subtype_updated.value_counts()"
   ]
  },
  {
   "cell_type": "code",
   "execution_count": 30,
   "metadata": {
    "ExecuteTime": {
     "end_time": "2023-09-15T07:23:13.344150Z",
     "start_time": "2023-09-15T07:23:13.321072Z"
    }
   },
   "outputs": [
    {
     "data": {
      "text/plain": [
       "{'11q23/MLL',\n",
       " 'Control',\n",
       " 'HeH',\n",
       " 'MEF2D-r',\n",
       " 'low HeH',\n",
       " 'no_class',\n",
       " 't(12;21)',\n",
       " 't(12;21)-like',\n",
       " 't(1;19)'}"
      ]
     },
     "execution_count": 30,
     "metadata": {},
     "output_type": "execute_result"
    }
   ],
   "source": [
    "subs = set(testdf.DNAm_subtype_V2.value_counts().index).union(testdf.Subtype_updated.value_counts().index)\n",
    "subs"
   ]
  },
  {
   "cell_type": "code",
   "execution_count": 31,
   "metadata": {
    "ExecuteTime": {
     "end_time": "2023-09-15T07:23:13.775631Z",
     "start_time": "2023-09-15T07:23:13.743857Z"
    }
   },
   "outputs": [
    {
     "data": {
      "text/plain": [
       "['HeH',\n",
       " 'low HeH',\n",
       " 't(12;21)',\n",
       " 't(12;21)-like',\n",
       " '11q23/MLL',\n",
       " 't(1;19)',\n",
       " 'MEF2D-r',\n",
       " 'Control']"
      ]
     },
     "execution_count": 31,
     "metadata": {},
     "output_type": "execute_result"
    }
   ],
   "source": [
    "subtypeord = joblib.load('sub_colors.pkl')\n",
    "subtypeord2 = subtypeord.copy()\n",
    "for s in subtypeord.keys():\n",
    "    if s not in subs:\n",
    "        del subtypeord2[s]\n",
    "\n",
    "subtypeorder = list(subtypeord2.keys())\n",
    "subtypeorder"
   ]
  },
  {
   "cell_type": "code",
   "execution_count": 32,
   "metadata": {
    "ExecuteTime": {
     "end_time": "2023-09-15T07:23:14.159431Z",
     "start_time": "2023-09-15T07:23:14.143579Z"
    }
   },
   "outputs": [],
   "source": [
    "from sklearn.metrics import confusion_matrix"
   ]
  },
  {
   "cell_type": "code",
   "execution_count": 33,
   "metadata": {
    "ExecuteTime": {
     "end_time": "2023-09-15T07:23:14.559670Z",
     "start_time": "2023-09-15T07:23:14.543860Z"
    }
   },
   "outputs": [
    {
     "data": {
      "text/html": [
       "<div>\n",
       "<style scoped>\n",
       "    .dataframe tbody tr th:only-of-type {\n",
       "        vertical-align: middle;\n",
       "    }\n",
       "\n",
       "    .dataframe tbody tr th {\n",
       "        vertical-align: top;\n",
       "    }\n",
       "\n",
       "    .dataframe thead th {\n",
       "        text-align: right;\n",
       "    }\n",
       "</style>\n",
       "<table border=\"1\" class=\"dataframe\">\n",
       "  <thead>\n",
       "    <tr style=\"text-align: right;\">\n",
       "      <th></th>\n",
       "      <th>correct_preds</th>\n",
       "      <th>id</th>\n",
       "    </tr>\n",
       "  </thead>\n",
       "  <tbody>\n",
       "    <tr>\n",
       "      <th>HeH</th>\n",
       "      <td>61</td>\n",
       "      <td>HeH</td>\n",
       "    </tr>\n",
       "    <tr>\n",
       "      <th>t(12;21)</th>\n",
       "      <td>44</td>\n",
       "      <td>t(12;21)</td>\n",
       "    </tr>\n",
       "    <tr>\n",
       "      <th>t(1;19)</th>\n",
       "      <td>5</td>\n",
       "      <td>t(1;19)</td>\n",
       "    </tr>\n",
       "    <tr>\n",
       "      <th>11q23/MLL</th>\n",
       "      <td>2</td>\n",
       "      <td>11q23/MLL</td>\n",
       "    </tr>\n",
       "  </tbody>\n",
       "</table>\n",
       "</div>"
      ],
      "text/plain": [
       "           correct_preds         id\n",
       "HeH                   61        HeH\n",
       "t(12;21)              44   t(12;21)\n",
       "t(1;19)                5    t(1;19)\n",
       "11q23/MLL              2  11q23/MLL"
      ]
     },
     "execution_count": 33,
     "metadata": {},
     "output_type": "execute_result"
    }
   ],
   "source": [
    "corrects = pd.DataFrame(testdf[testdf.Subtype_updated == testdf.DNAm_subtype_V2].Subtype_updated.value_counts())\n",
    "corrects.rename(columns = {'Subtype_updated': 'correct_preds'}, inplace = True)\n",
    "corrects['id'] = corrects.index\n",
    "corrects"
   ]
  },
  {
   "cell_type": "code",
   "execution_count": 34,
   "metadata": {
    "ExecuteTime": {
     "end_time": "2023-09-15T07:23:14.728378Z",
     "start_time": "2023-09-15T07:23:14.712946Z"
    }
   },
   "outputs": [
    {
     "data": {
      "text/html": [
       "<div>\n",
       "<style scoped>\n",
       "    .dataframe tbody tr th:only-of-type {\n",
       "        vertical-align: middle;\n",
       "    }\n",
       "\n",
       "    .dataframe tbody tr th {\n",
       "        vertical-align: top;\n",
       "    }\n",
       "\n",
       "    .dataframe thead th {\n",
       "        text-align: right;\n",
       "    }\n",
       "</style>\n",
       "<table border=\"1\" class=\"dataframe\">\n",
       "  <thead>\n",
       "    <tr style=\"text-align: right;\">\n",
       "      <th></th>\n",
       "      <th>all_counts</th>\n",
       "      <th>id</th>\n",
       "    </tr>\n",
       "  </thead>\n",
       "  <tbody>\n",
       "    <tr>\n",
       "      <th>HeH</th>\n",
       "      <td>73</td>\n",
       "      <td>HeH</td>\n",
       "    </tr>\n",
       "    <tr>\n",
       "      <th>t(12;21)</th>\n",
       "      <td>52</td>\n",
       "      <td>t(12;21)</td>\n",
       "    </tr>\n",
       "    <tr>\n",
       "      <th>t(1;19)</th>\n",
       "      <td>6</td>\n",
       "      <td>t(1;19)</td>\n",
       "    </tr>\n",
       "    <tr>\n",
       "      <th>11q23/MLL</th>\n",
       "      <td>2</td>\n",
       "      <td>11q23/MLL</td>\n",
       "    </tr>\n",
       "  </tbody>\n",
       "</table>\n",
       "</div>"
      ],
      "text/plain": [
       "           all_counts         id\n",
       "HeH                73        HeH\n",
       "t(12;21)           52   t(12;21)\n",
       "t(1;19)             6    t(1;19)\n",
       "11q23/MLL           2  11q23/MLL"
      ]
     },
     "execution_count": 34,
     "metadata": {},
     "output_type": "execute_result"
    }
   ],
   "source": [
    "allsubs =  pd.DataFrame(testdf.Subtype_updated.value_counts())\n",
    "allsubs.rename(columns = {'Subtype_updated': 'all_counts'}, inplace = True)\n",
    "allsubs['id'] = allsubs.index\n",
    "allsubs"
   ]
  },
  {
   "cell_type": "code",
   "execution_count": 35,
   "metadata": {
    "ExecuteTime": {
     "end_time": "2023-09-15T07:23:14.990466Z",
     "start_time": "2023-09-15T07:23:14.965081Z"
    }
   },
   "outputs": [
    {
     "data": {
      "text/html": [
       "<div>\n",
       "<style scoped>\n",
       "    .dataframe tbody tr th:only-of-type {\n",
       "        vertical-align: middle;\n",
       "    }\n",
       "\n",
       "    .dataframe tbody tr th {\n",
       "        vertical-align: top;\n",
       "    }\n",
       "\n",
       "    .dataframe thead th {\n",
       "        text-align: right;\n",
       "    }\n",
       "</style>\n",
       "<table border=\"1\" class=\"dataframe\">\n",
       "  <thead>\n",
       "    <tr style=\"text-align: right;\">\n",
       "      <th></th>\n",
       "      <th>all_counts</th>\n",
       "      <th>correct_preds</th>\n",
       "    </tr>\n",
       "    <tr>\n",
       "      <th>id</th>\n",
       "      <th></th>\n",
       "      <th></th>\n",
       "    </tr>\n",
       "  </thead>\n",
       "  <tbody>\n",
       "    <tr>\n",
       "      <th>HeH</th>\n",
       "      <td>73</td>\n",
       "      <td>61</td>\n",
       "    </tr>\n",
       "    <tr>\n",
       "      <th>t(12;21)</th>\n",
       "      <td>52</td>\n",
       "      <td>44</td>\n",
       "    </tr>\n",
       "    <tr>\n",
       "      <th>t(1;19)</th>\n",
       "      <td>6</td>\n",
       "      <td>5</td>\n",
       "    </tr>\n",
       "    <tr>\n",
       "      <th>11q23/MLL</th>\n",
       "      <td>2</td>\n",
       "      <td>2</td>\n",
       "    </tr>\n",
       "  </tbody>\n",
       "</table>\n",
       "</div>"
      ],
      "text/plain": [
       "           all_counts  correct_preds\n",
       "id                                  \n",
       "HeH                73             61\n",
       "t(12;21)           52             44\n",
       "t(1;19)             6              5\n",
       "11q23/MLL           2              2"
      ]
     },
     "execution_count": 35,
     "metadata": {},
     "output_type": "execute_result"
    }
   ],
   "source": [
    "finalcounts = allsubs.merge(corrects, how = 'outer')\n",
    "finalcounts.set_index('id', inplace = True)\n",
    "finalcounts"
   ]
  },
  {
   "cell_type": "code",
   "execution_count": 36,
   "metadata": {
    "ExecuteTime": {
     "end_time": "2023-09-15T07:23:15.426829Z",
     "start_time": "2023-09-15T07:23:15.395639Z"
    }
   },
   "outputs": [
    {
     "data": {
      "text/html": [
       "<div>\n",
       "<style scoped>\n",
       "    .dataframe tbody tr th:only-of-type {\n",
       "        vertical-align: middle;\n",
       "    }\n",
       "\n",
       "    .dataframe tbody tr th {\n",
       "        vertical-align: top;\n",
       "    }\n",
       "\n",
       "    .dataframe thead th {\n",
       "        text-align: right;\n",
       "    }\n",
       "</style>\n",
       "<table border=\"1\" class=\"dataframe\">\n",
       "  <thead>\n",
       "    <tr style=\"text-align: right;\">\n",
       "      <th></th>\n",
       "      <th>all_counts</th>\n",
       "      <th>correct_preds</th>\n",
       "    </tr>\n",
       "    <tr>\n",
       "      <th>id</th>\n",
       "      <th></th>\n",
       "      <th></th>\n",
       "    </tr>\n",
       "  </thead>\n",
       "  <tbody>\n",
       "    <tr>\n",
       "      <th>HeH</th>\n",
       "      <td>73.0</td>\n",
       "      <td>61.0</td>\n",
       "    </tr>\n",
       "    <tr>\n",
       "      <th>low HeH</th>\n",
       "      <td>NaN</td>\n",
       "      <td>NaN</td>\n",
       "    </tr>\n",
       "    <tr>\n",
       "      <th>t(12;21)</th>\n",
       "      <td>52.0</td>\n",
       "      <td>44.0</td>\n",
       "    </tr>\n",
       "    <tr>\n",
       "      <th>t(12;21)-like</th>\n",
       "      <td>NaN</td>\n",
       "      <td>NaN</td>\n",
       "    </tr>\n",
       "    <tr>\n",
       "      <th>11q23/MLL</th>\n",
       "      <td>2.0</td>\n",
       "      <td>2.0</td>\n",
       "    </tr>\n",
       "    <tr>\n",
       "      <th>t(1;19)</th>\n",
       "      <td>6.0</td>\n",
       "      <td>5.0</td>\n",
       "    </tr>\n",
       "    <tr>\n",
       "      <th>MEF2D-r</th>\n",
       "      <td>NaN</td>\n",
       "      <td>NaN</td>\n",
       "    </tr>\n",
       "    <tr>\n",
       "      <th>Control</th>\n",
       "      <td>NaN</td>\n",
       "      <td>NaN</td>\n",
       "    </tr>\n",
       "  </tbody>\n",
       "</table>\n",
       "</div>"
      ],
      "text/plain": [
       "               all_counts  correct_preds\n",
       "id                                      \n",
       "HeH                  73.0           61.0\n",
       "low HeH               NaN            NaN\n",
       "t(12;21)             52.0           44.0\n",
       "t(12;21)-like         NaN            NaN\n",
       "11q23/MLL             2.0            2.0\n",
       "t(1;19)               6.0            5.0\n",
       "MEF2D-r               NaN            NaN\n",
       "Control               NaN            NaN"
      ]
     },
     "execution_count": 36,
     "metadata": {},
     "output_type": "execute_result"
    }
   ],
   "source": [
    "finalcounts = finalcounts.reindex(subtypeorder)\n",
    "\n",
    "finalcounts"
   ]
  },
  {
   "cell_type": "code",
   "execution_count": 37,
   "metadata": {
    "ExecuteTime": {
     "end_time": "2023-09-15T07:23:15.776940Z",
     "start_time": "2023-09-15T07:23:15.761488Z"
    }
   },
   "outputs": [],
   "source": [
    "finalcounts['props'] =  round(finalcounts.correct_preds/finalcounts.all_counts,2) * 100"
   ]
  },
  {
   "cell_type": "code",
   "execution_count": 38,
   "metadata": {
    "ExecuteTime": {
     "end_time": "2023-09-15T07:23:16.177205Z",
     "start_time": "2023-09-15T07:23:16.146177Z"
    }
   },
   "outputs": [
    {
     "data": {
      "text/html": [
       "<div>\n",
       "<style scoped>\n",
       "    .dataframe tbody tr th:only-of-type {\n",
       "        vertical-align: middle;\n",
       "    }\n",
       "\n",
       "    .dataframe tbody tr th {\n",
       "        vertical-align: top;\n",
       "    }\n",
       "\n",
       "    .dataframe thead th {\n",
       "        text-align: right;\n",
       "    }\n",
       "</style>\n",
       "<table border=\"1\" class=\"dataframe\">\n",
       "  <thead>\n",
       "    <tr style=\"text-align: right;\">\n",
       "      <th></th>\n",
       "      <th>all_counts</th>\n",
       "      <th>correct_preds</th>\n",
       "      <th>props</th>\n",
       "    </tr>\n",
       "    <tr>\n",
       "      <th>id</th>\n",
       "      <th></th>\n",
       "      <th></th>\n",
       "      <th></th>\n",
       "    </tr>\n",
       "  </thead>\n",
       "  <tbody>\n",
       "    <tr>\n",
       "      <th>HeH</th>\n",
       "      <td>73.0</td>\n",
       "      <td>61.0</td>\n",
       "      <td>84.0</td>\n",
       "    </tr>\n",
       "    <tr>\n",
       "      <th>low HeH</th>\n",
       "      <td>0.0</td>\n",
       "      <td>0.0</td>\n",
       "      <td>0.0</td>\n",
       "    </tr>\n",
       "    <tr>\n",
       "      <th>t(12;21)</th>\n",
       "      <td>52.0</td>\n",
       "      <td>44.0</td>\n",
       "      <td>85.0</td>\n",
       "    </tr>\n",
       "    <tr>\n",
       "      <th>t(12;21)-like</th>\n",
       "      <td>0.0</td>\n",
       "      <td>0.0</td>\n",
       "      <td>0.0</td>\n",
       "    </tr>\n",
       "    <tr>\n",
       "      <th>11q23/MLL</th>\n",
       "      <td>2.0</td>\n",
       "      <td>2.0</td>\n",
       "      <td>100.0</td>\n",
       "    </tr>\n",
       "    <tr>\n",
       "      <th>t(1;19)</th>\n",
       "      <td>6.0</td>\n",
       "      <td>5.0</td>\n",
       "      <td>83.0</td>\n",
       "    </tr>\n",
       "    <tr>\n",
       "      <th>MEF2D-r</th>\n",
       "      <td>0.0</td>\n",
       "      <td>0.0</td>\n",
       "      <td>0.0</td>\n",
       "    </tr>\n",
       "    <tr>\n",
       "      <th>Control</th>\n",
       "      <td>0.0</td>\n",
       "      <td>0.0</td>\n",
       "      <td>0.0</td>\n",
       "    </tr>\n",
       "  </tbody>\n",
       "</table>\n",
       "</div>"
      ],
      "text/plain": [
       "               all_counts  correct_preds  props\n",
       "id                                             \n",
       "HeH                  73.0           61.0   84.0\n",
       "low HeH               0.0            0.0    0.0\n",
       "t(12;21)             52.0           44.0   85.0\n",
       "t(12;21)-like         0.0            0.0    0.0\n",
       "11q23/MLL             2.0            2.0  100.0\n",
       "t(1;19)               6.0            5.0   83.0\n",
       "MEF2D-r               0.0            0.0    0.0\n",
       "Control               0.0            0.0    0.0"
      ]
     },
     "execution_count": 38,
     "metadata": {},
     "output_type": "execute_result"
    }
   ],
   "source": [
    "finalcounts.fillna(0, inplace = True)\n",
    "finalcounts"
   ]
  },
  {
   "cell_type": "code",
   "execution_count": 39,
   "metadata": {
    "ExecuteTime": {
     "end_time": "2023-09-15T07:23:18.248581Z",
     "start_time": "2023-09-15T07:23:18.241933Z"
    }
   },
   "outputs": [],
   "source": [
    "newnames = ['HeH',\n",
    " 'iAMP21',\n",
    " 'ETV6::RUNX1',\n",
    " 'ETV6::RUNX1-like',\n",
    " 'KMT2A-r',\n",
    " 'TCF3::PBX1',\n",
    " 'MEF2D-r',\n",
    " 'Control']"
   ]
  },
  {
   "cell_type": "code",
   "execution_count": 40,
   "metadata": {
    "ExecuteTime": {
     "end_time": "2023-09-15T07:23:18.806357Z",
     "start_time": "2023-09-15T07:23:18.790233Z"
    }
   },
   "outputs": [],
   "source": [
    "finalcounts['Subtype_renamed'] =  newnames"
   ]
  },
  {
   "cell_type": "code",
   "execution_count": 41,
   "metadata": {
    "ExecuteTime": {
     "end_time": "2023-09-15T07:23:19.079061Z",
     "start_time": "2023-09-15T07:23:19.063434Z"
    }
   },
   "outputs": [
    {
     "data": {
      "text/html": [
       "<div>\n",
       "<style scoped>\n",
       "    .dataframe tbody tr th:only-of-type {\n",
       "        vertical-align: middle;\n",
       "    }\n",
       "\n",
       "    .dataframe tbody tr th {\n",
       "        vertical-align: top;\n",
       "    }\n",
       "\n",
       "    .dataframe thead th {\n",
       "        text-align: right;\n",
       "    }\n",
       "</style>\n",
       "<table border=\"1\" class=\"dataframe\">\n",
       "  <thead>\n",
       "    <tr style=\"text-align: right;\">\n",
       "      <th></th>\n",
       "      <th>all_counts</th>\n",
       "      <th>correct_preds</th>\n",
       "      <th>props</th>\n",
       "      <th>Subtype_renamed</th>\n",
       "    </tr>\n",
       "    <tr>\n",
       "      <th>id</th>\n",
       "      <th></th>\n",
       "      <th></th>\n",
       "      <th></th>\n",
       "      <th></th>\n",
       "    </tr>\n",
       "  </thead>\n",
       "  <tbody>\n",
       "    <tr>\n",
       "      <th>HeH</th>\n",
       "      <td>73.0</td>\n",
       "      <td>61.0</td>\n",
       "      <td>84.0</td>\n",
       "      <td>HeH</td>\n",
       "    </tr>\n",
       "    <tr>\n",
       "      <th>low HeH</th>\n",
       "      <td>0.0</td>\n",
       "      <td>0.0</td>\n",
       "      <td>0.0</td>\n",
       "      <td>iAMP21</td>\n",
       "    </tr>\n",
       "    <tr>\n",
       "      <th>t(12;21)</th>\n",
       "      <td>52.0</td>\n",
       "      <td>44.0</td>\n",
       "      <td>85.0</td>\n",
       "      <td>ETV6::RUNX1</td>\n",
       "    </tr>\n",
       "    <tr>\n",
       "      <th>t(12;21)-like</th>\n",
       "      <td>0.0</td>\n",
       "      <td>0.0</td>\n",
       "      <td>0.0</td>\n",
       "      <td>ETV6::RUNX1-like</td>\n",
       "    </tr>\n",
       "    <tr>\n",
       "      <th>11q23/MLL</th>\n",
       "      <td>2.0</td>\n",
       "      <td>2.0</td>\n",
       "      <td>100.0</td>\n",
       "      <td>KMT2A-r</td>\n",
       "    </tr>\n",
       "    <tr>\n",
       "      <th>t(1;19)</th>\n",
       "      <td>6.0</td>\n",
       "      <td>5.0</td>\n",
       "      <td>83.0</td>\n",
       "      <td>TCF3::PBX1</td>\n",
       "    </tr>\n",
       "    <tr>\n",
       "      <th>MEF2D-r</th>\n",
       "      <td>0.0</td>\n",
       "      <td>0.0</td>\n",
       "      <td>0.0</td>\n",
       "      <td>MEF2D-r</td>\n",
       "    </tr>\n",
       "    <tr>\n",
       "      <th>Control</th>\n",
       "      <td>0.0</td>\n",
       "      <td>0.0</td>\n",
       "      <td>0.0</td>\n",
       "      <td>Control</td>\n",
       "    </tr>\n",
       "  </tbody>\n",
       "</table>\n",
       "</div>"
      ],
      "text/plain": [
       "               all_counts  correct_preds  props   Subtype_renamed\n",
       "id                                                               \n",
       "HeH                  73.0           61.0   84.0               HeH\n",
       "low HeH               0.0            0.0    0.0            iAMP21\n",
       "t(12;21)             52.0           44.0   85.0       ETV6::RUNX1\n",
       "t(12;21)-like         0.0            0.0    0.0  ETV6::RUNX1-like\n",
       "11q23/MLL             2.0            2.0  100.0           KMT2A-r\n",
       "t(1;19)               6.0            5.0   83.0        TCF3::PBX1\n",
       "MEF2D-r               0.0            0.0    0.0           MEF2D-r\n",
       "Control               0.0            0.0    0.0           Control"
      ]
     },
     "execution_count": 41,
     "metadata": {},
     "output_type": "execute_result"
    }
   ],
   "source": [
    "finalcounts"
   ]
  },
  {
   "cell_type": "code",
   "execution_count": 42,
   "metadata": {
    "ExecuteTime": {
     "end_time": "2023-09-15T07:23:20.445637Z",
     "start_time": "2023-09-15T07:23:20.431324Z"
    }
   },
   "outputs": [
    {
     "data": {
      "text/plain": [
       "['HeH: 84%',\n",
       " 'iAMP21: 0%',\n",
       " 'ETV6::RUNX1: 85%',\n",
       " 'ETV6::RUNX1-like: 0%',\n",
       " 'KMT2A-r: 100%',\n",
       " 'TCF3::PBX1: 83%',\n",
       " 'MEF2D-r: 0%',\n",
       " 'Control: 0%',\n",
       " 'no class']"
      ]
     },
     "execution_count": 42,
     "metadata": {},
     "output_type": "execute_result"
    }
   ],
   "source": [
    "ylabels = [l + ': ' + str(int(pr)) + '%' for l, pr in zip(finalcounts.Subtype_renamed, finalcounts.props)]\n",
    "ylabels.append('no class')\n",
    "ylabels"
   ]
  },
  {
   "cell_type": "code",
   "execution_count": 43,
   "metadata": {
    "ExecuteTime": {
     "end_time": "2023-09-15T07:23:20.785951Z",
     "start_time": "2023-09-15T07:23:20.771533Z"
    }
   },
   "outputs": [
    {
     "data": {
      "text/plain": [
       "112"
      ]
     },
     "execution_count": 43,
     "metadata": {},
     "output_type": "execute_result"
    }
   ],
   "source": [
    "sum(testdf.Subtype_updated == testdf.DNAm_subtype_V2)"
   ]
  },
  {
   "cell_type": "code",
   "execution_count": 44,
   "metadata": {
    "ExecuteTime": {
     "end_time": "2023-09-15T07:23:21.317075Z",
     "start_time": "2023-09-15T07:23:21.300080Z"
    }
   },
   "outputs": [
    {
     "data": {
      "text/plain": [
       "84.21052631578947"
      ]
     },
     "execution_count": 44,
     "metadata": {},
     "output_type": "execute_result"
    }
   ],
   "source": [
    "(sum(testdf.Subtype_updated == testdf.DNAm_subtype_V2)/testdf.shape[0])*100"
   ]
  },
  {
   "cell_type": "code",
   "execution_count": 45,
   "metadata": {
    "ExecuteTime": {
     "end_time": "2023-09-15T07:23:23.021686Z",
     "start_time": "2023-09-15T07:23:22.570181Z"
    },
    "scrolled": true
   },
   "outputs": [
    {
     "data": {
      "image/png": "[encoded data removed]",
      "text/plain": [
       "<Figure size 1440x1440 with 1 Axes>"
      ]
     },
     "metadata": {
      "needs_background": "light"
     },
     "output_type": "display_data"
    }
   ],
   "source": [
    "classes = subtypeorder.copy()\n",
    "classes.append('no_class')\n",
    "cm = confusion_matrix(testdf.Subtype_updated, testdf.DNAm_subtype_V2, labels = classes)\n",
    "cm_norm = confusion_matrix(testdf.Subtype_updated, testdf.DNAm_subtype_V2, labels = classes, normalize = 'true')\n",
    "labels = newnames\n",
    "labels.append('no class')\n",
    "hor, ver = cm.shape\n",
    "xticks = [float(h)+0.5 for h in list(range(hor))]\n",
    "yticks = [float(v)+0.5 for v in list(range(ver))]\n",
    "plt.figure(figsize = (20,20))\n",
    "sns.heatmap(cm_norm, annot=cm, linewidths=.5, square = True, cmap = 'Purples',  annot_kws = {'fontsize' : 50}, fmt = 'g', cbar = False)\n",
    "plt.ylabel('True ALL subtype', fontsize = 20)\n",
    "plt.xlabel('DNAm subtype', fontsize = 20)\n",
    "plt.xticks(xticks, labels[:hor], rotation = 45, fontsize = 20, ha='right')\n",
    "plt.yticks(yticks, ylabels, rotation = 0, fontsize = 20)\n",
    "plt.tight_layout()\n",
    "\n",
    "plt.show()"
   ]
  }
 ],
 "metadata": {
  "kernelspec": {
   "display_name": "visual",
   "language": "python",
   "name": "visualenv"
  },
  "language_info": {
   "codemirror_mode": {
    "name": "ipython",
    "version": 3
   },
   "file_extension": ".py",
   "mimetype": "text/x-python",
   "name": "python",
   "nbconvert_exporter": "python",
   "pygments_lexer": "ipython3",
   "version": "3.8.5"
  }
 },
 "nbformat": 4,
 "nbformat_minor": 4
}
